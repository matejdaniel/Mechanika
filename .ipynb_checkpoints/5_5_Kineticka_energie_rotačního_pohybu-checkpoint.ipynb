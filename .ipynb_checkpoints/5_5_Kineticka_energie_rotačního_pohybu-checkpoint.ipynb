{
 "cells": [
  {
   "cell_type": "markdown",
   "id": "602a5c09-aabd-4449-bbf5-de748f12d5ae",
   "metadata": {},
   "source": [
    "# Kinetická energie rotačního pohybu \n",
    "\n",
    "Kinetická energie $ T $ soustavy hmotných bodů je dána součtem kinetických energií jednotlivých částic:\n",
    "\n",
    "$$\n",
    "E_k = \\sum_i \\frac{1}{2} m_i v_i^2\n",
    "$$\n",
    "\n",
    "kde:\n",
    "- $ m_i $ je hmotnost i-té částice,\n",
    "- $ v_i $ je její rychlost.\n",
    "\n",
    "\n",
    "Předpokládejme tuhé těleso rotující kolem pevné osy s úhlovou rychlostí $ \\omega $. Každý bod tělesa se pohybuje po kruhové trajektorii kolem osy rotace. Rychlost bodu $ i $ lze vyjádřit pomocí úhlové rychlosti jako:\n",
    "\n",
    "$$\n",
    "v_i = \\omega r_i\n",
    "$$\n",
    "\n",
    "kde $ r_i $ je kolmá vzdálenost bodu od osy rotace.\n",
    "\n",
    "Dosadíme do výrazu pro kinetickou energii:\n",
    "\n",
    "$$\n",
    "E_k = \\sum_i \\frac{1}{2} m_i (\\omega r_i)^2\n",
    "$$\n",
    "\n",
    "$$\n",
    "E_k = \\frac{1}{2} \\omega^2 \\sum_i m_i r_i^2\n",
    "$$\n",
    "\n",
    "Výraz $ \\sum_i m_i r_i^2 $ odpovídá definici momentu setrvačnosti $ I $:\n",
    "\n",
    "$$\n",
    "I = \\sum_i m_i r_i^2\n",
    "$$\n",
    "\n",
    "Dosazením dostáváme konečný vztah pro kinetickou energii rotačního pohybu:\n",
    "\n",
    "$$\n",
    "E_k = \\frac{1}{2} I \\omega^2\n",
    "$$\n",
    "\n",
    "Tento vztah je analogický výrazu pro kinetickou energii translačního pohybu:\n",
    "\n",
    "$$\n",
    "E_k = \\frac{1}{2} m v^2\n",
    "$$\n",
    "\n",
    "kde hmotnost $ m $ odpovídá momentu setrvačnosti $ I $ a rychlost $ v $ je nahrazena úhlovou rychlostí $ \\omega $.\n"
   ]
  }
 ],
 "metadata": {
  "kernelspec": {
   "display_name": "Python 3 (ipykernel)",
   "language": "python",
   "name": "python3"
  },
  "language_info": {
   "codemirror_mode": {
    "name": "ipython",
    "version": 3
   },
   "file_extension": ".py",
   "mimetype": "text/x-python",
   "name": "python",
   "nbconvert_exporter": "python",
   "pygments_lexer": "ipython3",
   "version": "3.10.12"
  }
 },
 "nbformat": 4,
 "nbformat_minor": 5
}
