{
 "cells": [
  {
   "cell_type": "markdown",
   "id": "cf918097-e43e-4c5e-96bc-39a62b30f578",
   "metadata": {},
   "source": [
    "# Úvod do mechaniky\n",
    "\n",
    "Klasická mechanika je matematická věda, která studuje pohyb těles pod vlivem sil. **Galileo Galilei** zahájil moderní éru mechaniky použitím matematiky k popisu pohybu těles. Jeho *Mechanika*, publikovaná v roce 1623, představila koncept síly a popsala konstantně zrychlený pohyb objektů v blízkosti povrchu Země. \n",
    "\n",
    "O šedesát let později **Isaac Newton** formuloval své zákony pohybu, které publikoval v roce 1687 pod názvem *Philosophiae Naturalis Principia Mathematica*. Ve třetí knize, nazvané *De mundi systemate*, Newton vyřešil největší vědecký problém své doby použitím svého univerzálního gravitačního zákona k určení pohybu planet. Newton zavedl matematický přístup k analýze fyzikálních jevů a odmítl hypotézy bez experimentálního základu.\n",
    "\n",
    "Tento přístup vedl k rozsáhlému rozvoji Newtonovské mechaniky a vrcholil pracemi **Lenarda Eulera**, který systematicky studoval trojrozměrný pohyb tuhých těles a formuloval rovnice pohybu tuhého tělesa známé jako Eulerovy rovnice. Významný přínos k rozvoji mechaniky měl také **Joseph-Louis Lagrange**, který zformuloval analytickou mechaniku založenou na principech variačního počtu. Lagrangeova mechanika poskytla elegantní a obecný přístup k řešení mechanických problémů prostřednictvím Lagrangeových rovnic druhého druhu, které umožňují popis dynamiky systémů bez nutnosti explicitního uvažování sil působících na jednotlivé částice.\n",
    "Během tohoto vývoje se postupně formoval i koncept energie, což vyvrcholilo v polovině 19. století objevem principu zachování energie a jeho aplikací na termodynamiku. Zachovávací principy, včetně zachování hybnosti, energie a momentu hybnosti, se staly klíčovými v klasické mechanice.\n",
    "\n",
    "Newtonovská mechanika byla dále aplikována na systémy složené z mnoha částic, což vedlo k rozvoji mechaniky kontinua a teorií mechaniky tekutin, vlnové mechaniky a elektromagnetismu. Vývoj vlnové teorie světla přinesl otázky ohledně existence éteru, které byly vyvráceny Michelson-Morleyho experimentem v roce 1887. Následně **Albert Einstein** ve své speciální teorii relativity (1905) přehodnotil koncepty prostoru a času, čímž vyřešil rozpory mezi optikou a Newtonovskou mechanikou.\n",
    "\n",
    "Další omezení Newtonovské mechaniky se objevily na mikroskopické úrovni. Statistická mechanika byla vyvinuta k propojení mikroskopických vlastností atomů a molekul s makroskopickými termodynamickými vlastnostmi materiálů. Začátkem 20. století kvantová mechanika poskytla matematický popis mikroskopických jevů, který plně odpovídal experimentálním pozorováním.\n",
    "\n",
    "Ve 20. století se ukázalo, že Newtonův gravitační zákon již přesně nepopisuje velkorozměrový vesmír a byl nahrazen obecnou relativitou. Pozorování jako zrychlená expanze vesmíru na konci 20. a počátku 21. století vedla k zavedení nových konceptů, jako je temná energie, což opět vyžaduje přehodnocení základních fyzikálních konceptů.\n",
    "\n"
   ]
  },
  {
   "cell_type": "markdown",
   "id": "beadb203-21a6-4ffd-add6-36c01bc65839",
   "metadata": {},
   "source": [
    "# Co obsahuje tento kurz\n",
    "\n",
    "> [!TIP]\n",
    "> Use the command line to detect and resolve the errors!"
   ]
  }
 ],
 "metadata": {
  "kernelspec": {
   "display_name": "Python 3 (ipykernel)",
   "language": "python",
   "name": "python3"
  },
  "language_info": {
   "codemirror_mode": {
    "name": "ipython",
    "version": 3
   },
   "file_extension": ".py",
   "mimetype": "text/x-python",
   "name": "python",
   "nbconvert_exporter": "python",
   "pygments_lexer": "ipython3",
   "version": "3.10.12"
  }
 },
 "nbformat": 4,
 "nbformat_minor": 5
}
