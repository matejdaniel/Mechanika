{
 "cells": [
  {
   "cell_type": "markdown",
   "id": "1b0f9c3b-39df-451e-9075-3841d67d68e4",
   "metadata": {},
   "source": [
    "# 3. cvičení"
   ]
  },
  {
   "cell_type": "markdown",
   "id": "009bd74c-3970-403f-ab57-88210bd8b57e",
   "metadata": {},
   "source": [
    "## Kinematika oscilátoru"
   ]
  },
  {
   "cell_type": "markdown",
   "id": "78c5c4d6-c7fa-46e1-8671-dc656afc3a0a",
   "metadata": {},
   "source": [
    "1. Ultrazvukové přístroje používají lékaři k pořizování snímků pro vyšetření vnitřních orgánů těla. Ultrazvukový přístroj vysílá vysokofrekvenční zvukové vlny, které se odrážejí od orgánů, a počítač přijímá vlny a používá je k vytvoření obrazu. Uvažujme lékařské zobrazovací zařízení, které produkuje ultrazvuk oscilací s periodou $0,400\\,\\mu \\text{s}$. Jaká je frekvence tohoto kmitání? Je možné ho slyšet?\n",
    "\n",
    "    [**Řešení**](https://courses.lumenlearning.com/suny-osuniversityphysics/chapter/15-1-simple-harmonic-motion/)\n",
    "   \n",
    "2.  Blok o hmotnosti 2,00 kg je umístěn na povrchu bez tření. Pružina s tuhostí $k=32,00\\,\\text{N}\\text{/}\\text{m}$ je připevněna k bloku a opačný konec pružiny je připevněn ke stěně. Pružina může být stlačena nebo prodloužena. Rovnovážná pozice je označena jako $ x=0,00\\,\\text{m}$.\n",
    "\n",
    "    Na blok působí externí síla praxí a umístní ho do polohy $x=+0,02\\,\\text{m}$. Blok se uvolní z klidu a osciluje mezi $x=+0,02\\,\\text{m}$ a $x=-0,02\\,\\text{m}$. Perioda pohybu je 1,5 s. Určete úhlovou rychlost a zapište rovnice. Numericky a graficky zdůvodněte průbeh rychlosti $a$ a zrychlení $v$.\n",
    "\n",
    "    \n",
    "    [**Řešení**](https://courses.lumenlearning.com/suny-osuniversityphysics/chapter/15-1-simple-harmonic-motion/)\n",
    "\n",
    "\n",
    "3. Dokažte, že  pro popis kmitání $x(t)=A\\text{sin}(\\omega t+\\varphi )$ není perioda funkcí počátečné fáze. Proč si k popisu vybíráme funkci $\\cos$ a ne $\\sin$?\n",
    "\n",
    "4.  Pneumatika má vzorek běhounu se štěrbinou každých 2,00 cm. Každá štěrbina vytváří při pohybu pneumatiky sílu. Jaká je frekvence těchto sil, pokud se auto pohybuje rychlostí 30,0 m/s? Jedná se o harmonické buzení?"
   ]
  },
  {
   "cell_type": "markdown",
   "id": "014e92e9-0435-4612-993e-386ea06f8b70",
   "metadata": {},
   "source": [
    "## Volné kmity"
   ]
  },
  {
   "attachments": {},
   "cell_type": "markdown",
   "id": "6b2d442d-e89f-4a8e-83ba-b4a504a396c3",
   "metadata": {},
   "source": [
    "1. Níže uvedený graf ukazuje údaje o poloze malého masivního vozíku připojeného k pružině, jak je znázorněno na obrázku.\n",
    "    * určete periodu $T$\n",
    "    * určete frekvenci $f$\n",
    "    * určete úhlovou rychlost $\\omega$\n",
    "    * pokud je tuhost pružiny $k$=2,5 N/m, můžete zjistit hmotnost vozíku? Pokud můžete, udělejte to a vysvětlete své úvahy. Pokud nemůžete, vysvětlete, proč ne.\n",
    "\n",
    "    :::{image} https://www.compadre.org/NexusPh/course/images/CartOnSpring.jpg\n",
    "    :::\n",
    "\n",
    "   :::{image} https://www.compadre.org/NexusPh/course/images/CartOnSpringGraph.jpg\n",
    "    :::\n",
    "   \n",
    "3. Hmota ${m}_{0}$ je připevněna k pružině a visí svisle. Hmota se zvedne o krátkou vzdálenost ve vertikálním směru a uvolní se. Hmota kmitá s frekvencí ${f}_{0}$. Pokud je hmota nahrazena hmotou devětkrát větší a experiment se opakuje, jaká by byla frekvence oscilací ve smyslu ${f}_{0}$?\n",
    "4. Hmota o hmotnosti 0,500 kg zavěšená na pružině kmitá s periodou 1,50 s. Kolik hmoty je třeba přidat k objektu, aby se perioda změnila na 2,00 s?\n",
    "5. Jakou chybu (procentuální i hmotnostní) byste měli při výběru hmotnosti objektu v předchozí úloze, pokud byste si přáli, aby nová perioda byla větší než 2,01 s nebo menší než 1,99 s?\n",
    "6. Jednoduchá hmota na pružině je základem pro náš popis téměř jakéhokoli kmitání. Podívejme se na vibrační stavy jednoduché dvouatomové molekuly, řekněme N$_2$. Pokud se podíváme pouze na oscilace molekuly, kde se těžiště nepohybuje, atomy se pohybují stejně a opačně. Když jeden jde doleva, druhý jde stejnou rychlostí doprava a naopak. Je to jako dva vozíky připevněné ke zdi a kmitající rovnoměrně a opačně, jak je znázorněno na spodním obrázku. Když se každý vozík posune o vzdálenost $x$, pružina mezi atomy se ve skutečnosti natáhne na vzdálenost $2x$, takže síla na každý atom je $−2kx$. V případě symetrické molekuly tak můžeme tedy použít jeden model „vozík na pružině“ pro každý z atomů, pokud nahradíme $k$ hodnotou $2k$.\n",
    "\n",
    "    Je-li úhlová frekvence kmitání N$_2$ je 4,5 10$^{-18}$ rad/s, a hmotnost jednoho atomu dusíku je 2,3 x 10$^{-26}$ kg, najděte efektivní tuhost vazby mezi dvěma atomy.\n",
    "\n",
    "7. Některé z excitací dvouatomové molekuly, jako je $HCl$, lze modelovat jako dvě hmoty spojené pružinou. Ačkoli klasický model není zcela správný (viz. Kvantové oscilátory  a jejich diskrétní stavy), můžeme použít odhadnout frekvenci, abychom získali určitý pocit síly efektivní pružiny, která spojuje molekuly. Doba přechodu z rovnovážné polohy do maximálního roztažení trvá asi $3 10^{–15}$ s. Hmotnost atomu $H$ je přibližne 1 $u$ a hmotnost atomu $Cl$ je 35 $u$ kde $u$ je atomová hmotnostní konstanta 1,66 10$^{−27}$ kg.\n",
    "   * Odhadněte efektivní tuhost chemické vazby\n",
    "     :::{image} https://www.compadre.org/NexusPh/course/images/DiatomicOsc.png\n",
    "     :::\n",
    "\n",
    "\n",
    "8. Blok o hmotnosti $M$ je v klidu na vodorovném stole bez tření. K pevné podpěře je připevněn pružinou o konstantní tuhosti $k$. Hliněná peleta o hmotnosti $m$ a rychlosti $v$ narazí na blok, jak je znázorněno na obrázku, a přilepí se k němu.\n",
    "   * Určete rychlost kvádru bezprostředně po srážce.\n",
    "   * Určete amplitudu výsledného jednoduchého harmonického pohybu.\n",
    "   * Odvoďte rovnici kmitání.\n",
    "   * Abyste mohli tento problém vyřešit, musíte provést řadu zjednodušujících předpokladů, z nichž některé jsou v problému uvedeny a některé nikoli. Diskutujte o aproximacích, které jste museli udělat, abyste problém vyřešili.\n",
    "   :::{image} https://www.compadre.org/nexusph/course/images/OscillationsAndWaves/CartOnSpringAndPellet.jpg\n",
    "   :::\n",
    "\n",
    "    [**Řešení**](https://www.compadre.org/nexusph/course/Example_Oscillator_calculations)\n",
    "\n",
    "9.  Hmota visící na pružině natáhne pružinu, visící v klidu v rovnovážné poloze, kde je síla pružiny směrem nahoru vyvážena gravitační silou směřující dolů. Pokud se hmota stáhne a uvolní, bude oscilovat. Na obrázku je zobrazeno 5 fotografií okamžiku, kdy visící hmota osciluje. Červená šipka ukazuje gravitační sílu na hmotu v tomto okamžiku a modrá šipka ukazuje sílu, kterou v tomto okamžiku působí pružina. Zvolíme nulovou hladinu gravitační potenciální energie na červené čáře ve spodní části obrázku, jak je znázorněno.\n",
    "    * Pokud se pružina trochu natáhne a uvolní, osciluje z C do B do D zpět do B atd.\n",
    "    * Pokud se pružina hodně natáhne a uvolní, osciluje z E do B do F zpět do B atd.\n",
    "    1. Jak byste seřadili potenciální energii pružiny pro malé kmitání (obrázky B, C a D)?\n",
    "    2. Jak byste seřadili potenciální energie pružiny pro velkou oscilaci B, E a F?\n",
    "    3. Jak byste seřadili kinetické energie hmot od nejvyšší po nejnižší pro pět zobrazených okamžiků?\n",
    "    4. Jak byste seřadili gravitační potenciální energie od nejvyšší po nejnižší pro uvedených pět okamžiků?\n",
    "\n",
    "    :::{image} https://www.compadre.org/NexusPh/course/images/OscillationsAndWaves/comparing_energy_of_oscillators.jpg\n",
    "    :::\n",
    "\n",
    "10. Uvažujme hmotu $m$ s pružinami podle obrázku. Nechť jsou tuhosti pružin $k_1$ a $k_2$. Řešte pohybovou rovnici  a určte fekvenci vlastních kmitů.\n",
    "    :::{image} https://scienceworld.wolfram.com/physics/simg468.gif\n",
    "    :::\n",
    "\n",
    "    [**Řešení**](https://scienceworld.wolfram.com/physics/SpringsTwoSpringsandaMass.html)\n",
    "\n",
    "11. Určete vlastní frekvenci systému.\n",
    "\n",
    "    :::{image} https://homework.study.com/cimages/multimages/16/untitled_diagram_86582496497247499231.png\n",
    "    :::"
   ]
  },
  {
   "cell_type": "markdown",
   "id": "9ef66c86-882e-48fc-b905-b079dedef1b2",
   "metadata": {},
   "source": [
    "## Tlumené kmity\n",
    "\n",
    "1. UVažujte, pohybovou rovnici danou\n",
    "\n",
    "   $$\\ddot{x} + 2 \\ddot{x} + (\\omega^2 +1) x = 2 \\cos \\omega t$$\n",
    "\n",
    "    * Určete všechny působící síly a vysvětlete jejich původ. \n",
    "   \n",
    "3. Plastová láhev je částečně naplněna pískem a umístěna do vody. Kombinovaná hmotnost láhve a písku je $m$.  V rovnováze je dno láhve ve vzdálenosti $d$ z hladiny vody. Hustota vody je a gravitační zrychlení je $g$. Plocha dna lahve je $A$. Jemným šťouchnutím se láhev bude jemně kývat nahoru a dolů s periodou $T$.\n",
    "\n",
    "    * v případě, že zanedbáme tření určete všechny síly a řešte pohybovou rovnici. Dokažte, že se jedná o periodický pohyb a určete jeho frekvenci.\n",
    "    * uvažujte vizkózní tření (odporová síla úměrná rychlosti pohybu), od čeho závisí pohyb láhve?\n",
    "    * předpokládejte, že amplituda kmitu láhve klesá s časovou konstantou $\\tau$. Zapište závislost $x(t)$.\n",
    "    * změníme-li hmotnost písku, jak se změní frekvence kmitů.\n",
    "\n",
    "    :::{image} https://www.compadre.org/NexusPh/course/images/BobbingBottle.jpg\n",
    "    :width:300px\n",
    "    :::"
   ]
  },
  {
   "cell_type": "markdown",
   "id": "9576b043-5638-4c0b-95f2-1455eeff67bf",
   "metadata": {},
   "source": [
    "## Kyvadlo\n",
    "\n",
    "1. Kulka o hmotnosti $m$ je vypálena do stacionárního bloku hmoty $M$ o určité rychlosti $v$. Blok se vychýli o hodnotu $h$. Délka závěsu je $l$.\n",
    "    * Vysvětlete, proč nelze použít zachování energie před srážkou?\n",
    "    * \n",
    "    * Předpokládejme, že blok je 100krát těžší než střela. Pokud se systém kulka-blok vykývne do výšky 20 cm, jaká byla počáteční rychlost kulky? Předpokládejme, že experiment probíhá je na Zemi.\n",
    "    * Popište závislost vychýlení na čase $\\varphi(t)$.\n",
    "      \n",
    "    :::{image} https://www.eiscolabs.com/cdn/shop/products/BLPN14_1200x928.jpg?v=1571438915\n",
    "    :::\n",
    "\n",
    "    [**Řešení**](https://physicstasks.eu/377/ballistic-pendulum-1)\n",
    "\n",
    "2. Určete rovnice pohybu pro soustavu kyvadla a pružiny.\n",
    "\n",
    ":::{image} https://d2vlcm61l7u1fs.cloudfront.net/media%2F4fc%2F4fc16c7c-98f9-4cc1-97b9-1741397e3e01%2FphpJrA6uR.png\n",
    ":::\n",
    "\n",
    "\n",
    "3. Z malé koule o hmotnosti $m$ = 1,00 kg na lehké, ale pevné struně o délce $L$ = 1,50 m je vytvořeno kyvadlo. Kolíček je upevněn tak, aby seděl ve vzdálenosti $h = L/2$ nad nejnižším bodem výkyvu kyvadla, jak je znázorněno níže. Velikost kolíčku je oproti délce provázku zanedbatelná. Z jakého minimálního úhlu? musí být kyvadlo uvolněno, aby kulička dosáhla polohy přímo nad kolíkem, aniž by se provázek prověsil? (Tip: struna se prověsí, pokud napětí v ní klesne na nulu.)\n",
    "\n",
    "   :::{image} https://d2vlcm61l7u1fs.cloudfront.net/media%2F86e%2F86e0db72-9f75-4827-bf93-36485b2b4ded%2Fphp0NsxV7.png\n",
    "   :::"
   ]
  }
 ],
 "metadata": {
  "kernelspec": {
   "display_name": "Python 3 (ipykernel)",
   "language": "python",
   "name": "python3"
  },
  "language_info": {
   "codemirror_mode": {
    "name": "ipython",
    "version": 3
   },
   "file_extension": ".py",
   "mimetype": "text/x-python",
   "name": "python",
   "nbconvert_exporter": "python",
   "pygments_lexer": "ipython3",
   "version": "3.10.12"
  }
 },
 "nbformat": 4,
 "nbformat_minor": 5
}
