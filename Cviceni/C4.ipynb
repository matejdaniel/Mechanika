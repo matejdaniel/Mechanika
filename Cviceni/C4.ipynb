{
 "cells": [
  {
   "cell_type": "markdown",
   "id": "d7a205d6-1298-46ae-8f0e-29d47d8eba45",
   "metadata": {},
   "source": [
    "# 4. cvičení"
   ]
  },
  {
   "cell_type": "markdown",
   "id": "473d8cf9-ef2f-4e70-93df-0181c7b805f2",
   "metadata": {},
   "source": [
    "## Superpozice pohybů\n",
    "\n",
    "1. Loď pluje po řece proti jejímu proudu z bodu A do bodu B a zpět do bodu A znovu. Rychlost lodi vůči vodě je v obou případech stejná a rovná se 4 km·h$^{−1}$. Rychlost proudu je 1,6 km·h$^{-1}$. Určete poměr času, který loďce zabere plavba z bodu A do bodu B a zpět, a doby, kterou by loď potřebovala na ujetí stejné vzdálenosti na klidném jezeře.\n",
    "\n",
    "    [Řešení](https://physicstasks.eu/1987/moving-boat)\n",
    "   \n",
    "2. Basketbalový koš je umístěn ve výšce $h_1$ nad podlahou. Střed koše je ve vzdálenosti $L$ vodorovně od čáry trestného hodu. Basketbalista střílí trestné hody a míč opustí jeho ruku v okamžiku, kdy je jeho střed přesně nad čarou trestného hodu ve výšce $h_2$ nad podlahou. Optimální elevační úhel $\\alpha$ je úhel, ve kterém střed míče prochází středem obruče, přičemž je potřeba minimální počáteční rychlost míče. Obecně dokažte, že tento úhel je $\\alpha = 45˚+\\beta/2$, kde $\\beta$ je tečný úhel, tj. úhel směrnice přímky spojující střed obruče a počáteční bod výstřelu od vodorovné roviny.\n",
    "\n",
    "    [Řešení](https://physicstasks.eu/926/basketball-player)\n",
    "\n",
    "3. Nádrž má dva otvory vyvrtané ve stěně, první ve výšce $h_1$ měřeno ode dna a druhý ve výšce $h_2$. V jaké výšce h musí být hladina vody v nádrži, pokud chceme, aby proudy vody proudily z obou otvorů, abychom získali stejný dosah $x$? Odpor vzduchu je zanedbatelný.\n",
    "Rěšte úlohu obecně, pak pro hodnoty h1 = 10 cm a h2 = 30 cm.\n",
    "\n",
    "    :::{image} https://physicstasks.eu/media/01520/nadob.page.tagged.gif\n",
    "    :::\n",
    "\n",
    "\n",
    "    [Řešení](https://physicstasks.eu/1520/water-streaming-out-of-the-tank)"
   ]
  },
  {
   "cell_type": "markdown",
   "id": "f9315d53-dc63-45d8-95ec-30600608deec",
   "metadata": {},
   "source": [
    "## Pohyb po kružnici\n",
    "\n",
    "1. Může člověk, který stojí na rovníku, „odlétnout“ účinkem odstředivé síly? Jak rychle by se musela točit Země, aby nám to hrozilo?\n",
    "\n",
    "    [Řešení](https://physicstasks.eu/929/centrifugal-force-on-the-equator)\n",
    "\n",
    "2.  Kalibrovali jsme pružinovou váhu na severním pólu a poté jsme váhu přesunuli k rovníku. Udává stupnice stejné hodnoty jako na pólu? Uveďte důvody proč ano nebo ne.\n",
    "\n",
    "    [Řešení](https://physicstasks.eu/930/spring-scale-on-the-pole-and-on-the-equator)\n",
    "\n",
    "3. Na kolotoči je na 1 m dlouhém provázku ve vzdálenosti 2 m od osy otáčení zavěšeno závaží o hmotnosti 0,5 kg. Závaží je vychýleno z klidové polohy o 10°. Závaží nekmitá. Jaká je doba rotace kolotoče? Vyřešte tento problém s ohledem na inerciální i neinerciální vztažnou soustavu.\n",
    "\n",
    "   [Řešení](https://physicstasks.eu/1753/a-pendulum-on-a-merry-go-round)\n",
    "\n",
    "4. Štíhlá tyč OA délky R se otáčí úhlovou rychlostí $\\omega$ ve směru hodinových ručiček v rovině kolem bodu O. Po tyči leze mravenec z bodu O do bodu A konstantní rychlostí $\\vec{v}(t)$  (měřeno s ohledem na tyč). Určete časově závislou polohu mravence v laboratorní referenční soustavě. Předpokládejme, že poloha v čase t = 0 s byla ve středu tyče.\n",
    "\n",
    "   [Řešení](https://physicstasks.eu/384/an-ant-on-a-rod)\n",
    "\n",
    "5. Malé těleso klouže z nejvyššího bodu koule o poloměru $R$ po povrchu koule bez tření.\n",
    "\n",
    "    * A) V jaké výšce h pod nejvyšším bodem koule se těleso odpojí od povrchu koule?\n",
    "    * B) Vypočítejte rychlost tělesa v okamžiku odpojení od povrchu koule, pokud mělo v nejvyšším bodě nulovou rychlost.\n",
    "    * C) V jaké vzdálenosti od bodu dotyku míče s vodorovným stolem přistane těleso na stole?\n",
    "\n",
    "    [Řešení](https://physicstasks.eu/653/a-solid-slides-along-the-surface-of-a-ball)"
   ]
  },
  {
   "attachments": {},
   "cell_type": "markdown",
   "id": "9858067d-5f51-40dd-b420-d584e95b8dcc",
   "metadata": {},
   "source": [
    "## Moment síly\n",
    "\n",
    "1. Která ze sil má největší otáčívý účinek. Vyjádřete matematicky pomocí momentu síly.\n",
    "\n",
    "   :::{image} https://d2vlcm61l7u1fs.cloudfront.net/media%2F2fb%2F2fb67906-c9ff-47a7-a01d-f2c20c84f1d7%2FphpfPxAVe.png\n",
    "   :::\n",
    "\n",
    "2.  Vypočítejte čistý točivý moment kolem nápravy kola zobrazeného na obrázku. Předpokládejme, že třecí moment 0,50 Nm brání pohybu. Předpokládejme, že $F_1$ = 22 N, $F_2$ = 35 N, $F_3$ = 21 N.\n",
    "\n",
    "   :::{image} https://d2vlcm61l7u1fs.cloudfront.net/media%2F4f7%2F4f779b41-9e44-4ec0-95a6-7aa9ac63b934%2FphpTZGEoP.png\n",
    "   :width:300px\n",
    "   :::\n",
    "\n",
    "3. Pokud $r_A$=0,34 m, $F$=18 N a $\\theta$=61°, jaká je velikost momentu kolem bodu A. Řešte pomocí vektorové algebery a rozkladem na složky.\n",
    "\n",
    "   :::{image} https://media.cheggcdn.com/media%2F5c8%2F5c89f7e1-84b7-4213-87df-1811a6b54ecb%2Fimage.png\n",
    "   :::\n",
    "\n",
    "4. Lovíte na jezeře a chytáte rybu pěkné velikosti. Jaký točivý moment musíte udržet v ruce?\n",
    "\n",
    "   :::{image} https://media.cheggcdn.com/media%2F4ff%2F4ff101d0-5ea9-43e4-8ecc-5e8d031c3c41%2FphpUHKRSr.png\n",
    "   :::\n",
    "\n",
    "5. Určete výsledný moment síly k bodu 0\n",
    "\n",
    "   :::{image} https://media.cheggcdn.com/media/a65/a65c9f82-843a-47fe-ab53-09be471b9032/phpRYiuyW\n",
    "   :::\n",
    "\n",
    "6. Určete výsledný moment síly k bodu C\n",
    "\n",
    "   :::{image} https://haygot.s3.amazonaws.com/questions/1865046_7d82b8b5218f43f7b142d83ed6514390.png\n",
    "   :::"
   ]
  },
  {
   "cell_type": "markdown",
   "id": "a375392c-f618-493c-831f-063fbbe88a0e",
   "metadata": {},
   "source": [
    "# Poloha těžiště\n",
    "\n",
    "1. Určete polohu těžiště u objektu na obrázku.\n",
    "\n",
    "   :::{image} https://d2vlcm61l7u1fs.cloudfront.net/media%2F8d4%2F8d40f9ae-ff2f-4a99-bc16-de554c408b9f%2Fphpzzlf31.png\n",
    "   :::\n",
    "\n",
    "3. Určete polohu těžiště u objektu na obrázku.\n",
    "\n",
    "    :::{image} https://physicstasks.eu/media/01519/utvar1.page.tagged.png\n",
    "    :::\n",
    "    \n",
    "\n",
    "   [Řešení](https://physicstasks.eu/1519/center-of-gravity-of-unusual-circle)\n",
    "\n",
    "3. Výpočtem určete polohu těžiště tenkého drátu o poloměru $r$, který ohneme do podoby půlkružnice o poloměru $R$ ($r\\ll R$).\n",
    "\n",
    "4. Určete polohu těžiště u objektu na obrázku.\n",
    "\n",
    "   :::{image}  https://d2nchlq0f2u6vy.cloudfront.net/19/04/13/5bce9838ddcd71130b9d7d579528bcc8/ef5b9cda8992be67fbe84e9ecf9e7b1d/image_scan.png\n",
    "   :::"
   ]
  }
 ],
 "metadata": {
  "kernelspec": {
   "display_name": "Python 3 (ipykernel)",
   "language": "python",
   "name": "python3"
  },
  "language_info": {
   "codemirror_mode": {
    "name": "ipython",
    "version": 3
   },
   "file_extension": ".py",
   "mimetype": "text/x-python",
   "name": "python",
   "nbconvert_exporter": "python",
   "pygments_lexer": "ipython3",
   "version": "3.10.12"
  }
 },
 "nbformat": 4,
 "nbformat_minor": 5
}
