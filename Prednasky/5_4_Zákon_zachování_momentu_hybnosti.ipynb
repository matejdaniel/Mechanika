{
 "cells": [
  {
   "cell_type": "markdown",
   "id": "534ffbdd-14ec-442f-90d3-7346263762ed",
   "metadata": {},
   "source": [
    "# Zákon zachování momentu hybnosti\n",
    "\n",
    "Moment hybnosti $ \\vec{L} $ tuhého tělesa vůči bodu $ O $ je definován jako:\n",
    "\n",
    "$$\n",
    "\\vec{L} = \\sum_i \\vec{r}_i \\times \\vec{p}_i\n",
    "$$\n",
    "\n",
    "kde:\n",
    "- $ \\vec{r}_i $ je polohový vektor částice $ i $ vzhledem k bodu $ O $,\n",
    "- $ \\vec{p}_i = m_i \\vec{v}_i $ je hybnost částice.\n",
    "\n",
    "V případě spojitého tělesa se přechází na integrál:\n",
    "\n",
    "$$\n",
    "\\vec{L} = \\int \\vec{r} \\times \\vec{v} \\, dm\n",
    "$$\n",
    "\n",
    "\n",
    "# Zákon zachování momentu hybnosti\n",
    "\n",
    "Pokud na systém nepůsobí žádný vnější moment síly ($ \\vec{M} = 0 $), dostáváme:\n",
    "\n",
    "$$\n",
    "\\frac{d\\vec{L}}{dt} = 0\n",
    "$$\n",
    "\n",
    "což znamená, že moment hybnosti zůstává konstantní:\n",
    "\n",
    "$$\n",
    "\\vec{L} = \\text{konst.}\n",
    "$$\n",
    "\n",
    "Tento zákon říká, že pokud na těleso nepůsobí vnější momenty, jeho moment hybnosti se nemění.\n",
    "\n",
    "---\n",
    "\n",
    "## Příklad: Rotující bruslař\n",
    "\n",
    "Bruslař provádějící piruetu může měnit rychlost otáčení změnou polohy paží. Pokud se přiblíží k tělu, moment setrvačnosti $ I $ se zmenší, a protože moment hybnosti $ L = I \\omega $ musí zůstat konstantní, úhlová rychlost $ \\omega $ se zvýší.\n",
    "\n",
    "Matematicky:\n",
    "\n",
    "$$\n",
    "I_1 \\omega_1 = I_2 \\omega_2\n",
    "$$\n",
    "\n",
    "kde:\n",
    "- $ I_1, \\omega_1 $ jsou moment setrvačnosti a úhlová rychlost před přitažením paží,\n",
    "- $ I_2, \\omega_2 $ jsou hodnoty po přitažení paží.\n",
    "\n",
    "Tento princip je využíván nejen v krasobruslení, ale i v astrofyzice (kolaps hvězd do neutronových hvězd zvyšuje jejich rotaci) a mechanice (setrvačníky ve strojích).\n"
   ]
  }
 ],
 "metadata": {
  "kernelspec": {
   "display_name": "Python 3 (ipykernel)",
   "language": "python",
   "name": "python3"
  },
  "language_info": {
   "codemirror_mode": {
    "name": "ipython",
    "version": 3
   },
   "file_extension": ".py",
   "mimetype": "text/x-python",
   "name": "python",
   "nbconvert_exporter": "python",
   "pygments_lexer": "ipython3",
   "version": "3.10.12"
  }
 },
 "nbformat": 4,
 "nbformat_minor": 5
}
