{
 "cells": [
  {
   "cell_type": "markdown",
   "id": "af41c2a8-9584-495f-85d9-5fe44ebaf2cb",
   "metadata": {},
   "source": [
    "## Vektorová algebra\n",
    "\n",
    "1. Vektor $\\vec{a}$ představuje posun 5,0 m na východ. Pokud vektor $\\vec{b}$ představuje 10,0 m posunutí na sever, najděte součet dvou posunutí (R).\n",
    "\n",
    "2. Určete složky $x$ a $y$ posunutí, jehož velikost je 30,0 m pod úhlem 23° od osy $x$.\n",
    "\n",
    "3. Na objekt působí dvě síly, ale v různých směrech. Například vy a váš přítel můžete oba tahat za provázky připevněné k jednomu dřevěnému bloku. Najděte velikost a směr výsledné síly za následujících okolností.\n",
    "    1. První síla má velikost 10 N a působí na východ. Druhá síla má velikost 4 N a působí na západ.\n",
    "    2. První síla má velikost 10 N a působí na východ. Druhá síla má velikost 4 N a působí na sever.\n",
    "\n",
    "4. Vektor $\\vec{c}$ představuje posun v metrech vyjádřený v jednotkovém vektorovém zápisu jako\n",
    "    $$\\vec{c} = 2 \\vec{i} + 6 \\vec{j} + 3 \\vec{k}$$\n",
    "    Vektor $\\vec{d}$ představuje druhé posunutí.\n",
    "    $$\\vec{d} = 5 \\vec{i} - 3 \\vec{j} - 2 \\vec{k}$$\n",
    "\n",
    "    * Najděte sklární a vektorový součin dvou vektorů a úhel mezi nimi.\n",
    "5. Dokažte, že pro vektor $\\vec{v}$ existují reálne čísla $r,s$ a $t$ tak ,aby $\\vec{v} = r \\vec{a} + s \\vec{b} + t (\\vec{a}\\times \\vec{b})$ pro které platí\n",
    "        $$r = \\frac{(\\vec{v}\\cdot\\vec{a})(\\vec{b}\\cdot\\vec{b}) - (\\vec{v}\\cdot\\vec{b})(\\vec{a}\\cdot\\vec{b})}{||\\vec{a}\\times\\vec{b}) ||^2}$$\n",
    "        $$s = \\frac{(\\vec{v}\\cdot\\vec{b})(\\vec{a}\\cdot\\vec{a}) - (\\vec{v}\\cdot\\vec{a})(\\vec{a}\\cdot\\vec{b})}{||\\vec{a}\\times\\vec{b}) ||^2}$$\n",
    "        $$t = \\frac{\\vec{v}\\cdot(\\vec{a}\\times\\vec{b})}{||\\vec{a}\\times\\vec{b}) ||^2}$$\n",
    "\n",
    "   * Prokažte, že vektor $r \\vec{a} + s \\vec{b} + t (\\vec{a}\\times \\vec{b})- \\vec{v}$ je kolmý na vektor $\\vec{a}$, $\\vec{b}$ a $\\vec{a}\\times \\vec{b}$\n",
    "   * Jaká je podmínka pro vektory $\\vec{a}$, $\\vec{b}$, aby platilo vyjádření $\\vec{v}$ pro všechny vektory v 3D.  ([**Řešení**](https://www.reddit.com/r/askmath/comments/18y599e/probably_the_most_difficult_vectors_question_in/))\n",
    "6. Běžec vyběhne 200 stejných kroků na vrchol kopce a poté běží po vrcholu kopce 50,0 m, než se zastaví u fontánky na pití. Jeho vektor posunutí z bodu A na spodní části schodů do bodu B u fontány je $$ {\\overset{\\to }{D}}_{AB}=(-90,0\\vec{i}+30,0\\vec{j})\\text{m}$$. Jaká je výška a šířka každého kroku v letu? Jaká je skutečná vzdálenost, kterou jogger urazí? Pokud udělá smyčku a vrátí se do bodu A, jaký je jeho čistý vektor posunutí?"
   ]
  },
  {
   "cell_type": "markdown",
   "id": "2054b5f8-e08c-42e0-b110-495429fb67e9",
   "metadata": {},
   "source": [
    "1. Na obrázku jsou čtyři grafy polohy a času lineárních pohybů autíček A, B, C a D.\n",
    "\n",
    "    1. Popište slovně pohyb každého vozu.\n",
    "    2. Určete průměrnou rychlost každého vozu v intervalu od 0 s do 4 s.\n",
    "    3. Určete okamžitou rychlost každého vozu v čase t = 4 s.\n",
    "    4. Na jednom obrázku nakreslete grafy rychlosti a času pro každé auto.\n",
    "    5. Určete celkové posunutí v t1 = 10 s každého vozu (včetně počátečního nenulového posunutí, pokud existuje), za předpokladu, že pohyb pokračuje se stejnou časovou závislostí, jak je znázorněno na obrázku.\n",
    "\n",
    "![graf pohybu](https://physicstasks.eu/media/01746/pohyb_graficky_zadani.page.tagged.gif)\n",
    "\n",
    "[**Řešení**](https://physicstasks.eu/1746/motion-given-by-a-motion-graph-i)"
   ]
  },
  {
   "cell_type": "markdown",
   "id": "97ae3001-407c-4439-9f6a-628e2c54435c",
   "metadata": {},
   "source": [
    "2. Malý Honza vyrazil na kole po rovné silnici. Závislost zrychlení na čase je dána následující tabulkou:\n",
    "\n",
    "\n",
    "|$t$ / $10^{-1}$s |0| 1| 2| 3| 4| 5| 6| 7| 8| 9| 10|\n",
    "---|---|---| ---|---| ---| ---| ---| ---| ---| ---| --|\n",
    "|$a$ / m·s$^{-2}$ |4,0 |3,7| 3,3| 3,0| 2,6| 2,3| 1,9| 1,6| 1,2| 0,8| 0,4|\n",
    "\n",
    "    * Nakreslete graf a určete tvar funkce a(t). Určete z něj průběh Honzíkovy rychlosti a závislosti polohy na čase.\n",
    "    * Předpokládejme, že se Honzík se nepohyboval v čase $t = 0$ s a byl v počátku souřadnicového systému.\n",
    "\n",
    "[**Řešení**](https://physicstasks.eu/2227/little-paulie)"
   ]
  },
  {
   "cell_type": "markdown",
   "id": "8252edeb-f847-4486-a288-7695623f27db",
   "metadata": {},
   "source": [
    "* Vozík o hmotnosti 250 g na vzduchové dráze je tažen a urychlován provázkem přes pevnou kladku. Porovnejte velikost zrychlení v následujících scénářích:\n",
    "\n",
    "    1. Provázek táhneme silou 0,1 N.\n",
    "\n",
    "    2. Na provázek zavěsíme závaží o tíze 0,1 N.\n",
    "\n",
    "Zanedbávejte odpor vzduchu a hmotnosti struny a kladky.\n",
    "\n",
    "Poznámka: Vzduchová dráha je zařízení, které umožňuje pohyb vozíku bez tření. Vozík je zavěšen nad dráhou pomocí vzduchových trysek\n",
    "\n",
    "![vozík na vzduchové dráze](https://physicstasks.eu/media/01750/vzduchova_draha_1.page.tagged.gif)\n",
    "\n",
    "[**Řešení**](https://physicstasks.eu/1750/cart-on-an-air-track)"
   ]
  },
  {
   "cell_type": "markdown",
   "id": "481e8efa-c2c4-4f05-a8cf-31d643addd8b",
   "metadata": {},
   "source": [
    "3. Na kostku ledu o hmotnosti $10 kg$ působí horizontální síla závislá na čase. Tato závislost je popsána vzorcem $F_x = p(q − t)$ , kde $p = 100$ Ns$^{−1}$, $q = 1$ s. V čase $t = 0$ s byla kostka ledu na začátku naší vztažné soustavy, její rychlost byla 0,2 ms$^{−1}$ a síla byla v souladu s její rychlostí. Kostka ledu se pohybuje po vodorovné ledové rovině bez tření.\n",
    "\n",
    "   1. Kdy a kde se kostka zastaví?\n",
    "   2. Předpokládejte, působící síla je konstantní $F_x = p$ ale kostka se rozpouští a její hmotnost ubývá rychlostí 10 g s$^(-1)$. Kdy a kde se kostka zastaví? Jaká bude celková dráha než se kostka úplně rozpustí?\n",
    "\n",
    "[**Řešení**](https://physicstasks.eu/1980/ice-cube-and-time-varying-force)"
   ]
  },
  {
   "cell_type": "markdown",
   "id": "7f8d75cf-14ea-4652-a36b-627f0e20fd42",
   "metadata": {},
   "source": [
    "4. Do sklenice s medem vložíme ocelovou kuličku o hmotnosti m = 1g. Odporová síla $F$, která působí na kuličku, je přímo úměrná její rychlosti.\n",
    "\n",
    "    1) Určete maximální rychlost $v_max$, které může kulička dosáhnout.\n",
    "    2) Určete průběh velikosti rychlosti $v(t)$ kuličky.\n",
    "    \n",
    "\n",
    "![Kulička v medu](https://physicstasks.eu/media/00652/med_1_Eng_zadani.page.tagged.gif)\n",
    "\n",
    "[**Řešení**](https://physicstasks.eu/652/a-ball-in-a-honey)"
   ]
  },
  {
   "cell_type": "markdown",
   "id": "f731d210-cc05-4ed0-b119-a4aa185f4943",
   "metadata": {},
   "source": [
    "5. Jakou dráhu urazí parašutista při seskoku než dosáhne maximální rychlost. Určete jeho maximální rychlost. Potřebné parametry odhadněte. Odoporovou sílu počítejte:\n",
    "    $$F_o = -\\frac{1}{2}  \\rho  C_d  A v^2$$\n",
    "kde $\\rho$ je hustota prostředí, $C_d$ je součinitel odporu, $A$ je plocha tělesa a $v$ je rychlost tělesa.\n",
    "\n",
    "![drag coefficient](https://upload.wikimedia.org/wikipedia/commons/thumb/3/37/14ilf1l.svg/440px-14ilf1l.svg.png)"
   ]
  },
  {
   "cell_type": "markdown",
   "id": "a23eaf28-9237-4fa6-b9ae-998f9bfa0dae",
   "metadata": {},
   "source": [
    "6. Při úplném sešlápnutí brzdového pedálu vozu pohybujícího se rychlostí 80 kmh$^{-1}$ po rovné asfaltové silnici může vůz zastavit za 50 m. Jak dlouhá bude jeho brzdná dráha na stejné silnici, která svírá s vodorovnou rovinou úhel 5°? Zvažte jak případ, kdy brzdí z kopce, tak i když brzdí do kopce. Předpokládejme, že v čase t = 0 s je souřadnice x = 0 m. Kola neprokluzují. Odpor vzduchu zanedbejte.\n",
    "\n",
    "![Brzdící auto](https://physicstasks.eu/media/01984/auto_1.page.tagged.gif)\n",
    "\n",
    "[**Řešení**](https://physicstasks.eu/1984/braking-vehicle)"
   ]
  },
  {
   "cell_type": "markdown",
   "id": "902b7eca-8d08-4dd5-89b2-dfcb53959974",
   "metadata": {},
   "source": [
    "7. Raketa ve vesmíru (bez působení gravitace) o hmotnosti $m_r$=2t je naložena palivem o hmotnosti $m_p$=12t. Raketa je poháněna raketovým motorem, jehož rychlost vystupujících plynů je 5000 kmh$^{−1}$. Maximální povolené zrychlení posádky je 7$G$, kde $G$ znamená gravitační zrychlení.\n",
    "   1. Jaká je maximální možná spotřeba paliva za sekundu, jak dlouho může raketový motor při takové spotřebě pracovat a jaká je konečná rychlost rakety?\n",
    "   2. Záleží maximální dosažená rychlost na rychlosti spotřeby paliva?\n",
    "\n",
    "[**Řesení**](https://physicstasks.eu/4318/rocket)\n",
    "\n"
   ]
  },
  {
   "cell_type": "markdown",
   "id": "25f42fa7-913f-4144-9541-d2a91f8661ed",
   "metadata": {},
   "source": [
    "8. Kulka o hmotnosti 10 g byla vypálena proti stacionárnímu dřevěnému bloku o hmotnosti 1 kg. Pronikl blokem do hloubky 10 cm. Kdyby byl dřevěný blok pohyblivý, jak hluboko by se střela dostala? Předpokládejme, že dřevo neustále odolává pohybu střely.\n",
    "\n",
    "[**Řešení**](https://physicstasks.eu/1994/bullet)"
   ]
  }
 ],
 "metadata": {
  "kernelspec": {
   "display_name": "Python 3 (ipykernel)",
   "language": "python",
   "name": "python3"
  },
  "language_info": {
   "codemirror_mode": {
    "name": "ipython",
    "version": 3
   },
   "file_extension": ".py",
   "mimetype": "text/x-python",
   "name": "python",
   "nbconvert_exporter": "python",
   "pygments_lexer": "ipython3",
   "version": "3.10.12"
  }
 },
 "nbformat": 4,
 "nbformat_minor": 5
}
