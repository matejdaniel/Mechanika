{
 "cells": [
  {
   "cell_type": "markdown",
   "id": "8269732e-a093-46a1-9232-800730700af5",
   "metadata": {},
   "source": [
    "# Určení vnitřních sil a napětí - metoda řezu"
   ]
  },
  {
   "cell_type": "code",
   "execution_count": 5,
   "id": "404c38c8-1dee-407d-8cac-c5238fa2792b",
   "metadata": {},
   "outputs": [],
   "source": [
    "from IPython.display import YouTubeVideo"
   ]
  },
  {
   "cell_type": "markdown",
   "id": "319099b0-dc49-4870-aef7-c532fe7538ac",
   "metadata": {},
   "source": [
    "## Normálové síly ($N$) a tahové nebo tlakové napětí ($\\sigma$)\n",
    "\n",
    "Součást namáhanou pouze silami v 1D, v ose součásti, označujeme jako prut. Průřez prutu může být kruhový (u tyče) nebo mít jiný tvar. Při působení vnějších axiálních sil (F) vznikají v prutu vnitřní síly (N) jako reakční síly. \n",
    "\n",
    "Normálové (axiální) napětí $\\sigma$ lze obecně definovat poměrem:\n",
    "\n",
    "\n",
    "$$\\sigma = \\frac{N}{A}$$\n",
    "\n",
    "kde $A$ je plochu příčného řezu \\[mm$^2$\\]. \n",
    "\n",
    "Protože síly a průřezy se v průběhu prutu mohou měnit, mění se také velikost vnitřních sil $N$ a napětí $\\sigma$. Můžeme tedy napsat\n",
    "\n",
    "$$N=N(x), \\sigma = \\sigma(x) $$\n",
    "kde $x$ je polohová souřadnice místa působení sil a napětí.\n",
    "\n",
    "## Metoda řezu\n",
    "\n",
    "# Metoda řezu pro určení vnitřních sil u prutů namáhaných na tah\n",
    "\n",
    "Metoda řezu je základní analytický nástroj v mechanice kontinua, který umožňuje určit vnitřní síly v prutu nebo nosníku. Pro prut namáhaný na tah se tato metoda aplikuje následujícím způsobem:\n",
    "\n",
    "1. **Identifikace zatížení**: nejprve se stanoví všechny vnější síly působící na prut, včetně aplikovaných sil a reakcí v podporách.\n",
    "2. **Volba řezu**: prut se pomyslně rozřízne v místě, kde chceme určit vnitřní síly. Nejčastěji se volí řez v místě, kde dochází ke změně zatížení nebo geometrie průřezu. Polohu řezu určíme souřadnicí $x$. \n",
    "3. **Rozdělení na dvě části**: po provedení mysleného řezu vzniknou dvě oddělené části prutu. Každá část musí být v rovnováze, což znamená, že na řezné ploše se objeví vnitřní síla, která udržuje rovnováhu s vnějšími silami.\n",
    "4. **Aplikace rovnic rovnováhy**: síla působící na jednu část prutu musí být vyrovnána silou působící na druhou část. Pro tahové a tlakové síly v axiálním směru platí:  \n",
    "\n",
    "$$\n",
    "\\vec{N}(x) + \\sum\\limits_i\\vec{F}_i = \\vec{0}\n",
    "$$\n",
    "\n",
    "kde:  \n",
    "- $N$ je normálová síla v řezu,  \n",
    "- $F_i$ jsou normálové síly působící na uvolněnou část řezu.\n",
    "\n",
    ":::{image} https://encrypted-tbn0.gstatic.com/images?q=tbn:ANd9GcSk3hmzz70ih-bgGzuydHk6keCyJNqE-sHQNVFBm62DrVT8jJ9D72O7VV0XM98DWKsF8yQ&usqp=CAU\n",
    ":::\n",
    "\n",
    "5. **Znaménková konvence**  \n",
    "    - Tahoé normálové síly  nebo napětí jsou považovány za **kladné**, pokud prut v daném řezu prodlužuje.  \n",
    "    - Tlakové normálové síly nebo napětí jsou **záporná**, pokud prut v daném řezu zkracuje.\n",
    "\n",
    "6. **Vyhodnocení vnitřních sil**  \n",
    "    Pokud je v celém prutu stejné zatížení a konstantní průřez, normálová síla $N$ bude konstantní.  \n",
    "    V případě proměnného zatížení nebo změny průřezu je nutné provést více řezů a analyzovat jednotlivé úseky.\n",
    "\n",
    "7. **Vyhodnocení vnitřních napětí** určíme podělením vnitřní síly $N(x)$ plochou průřezu $A(x)$ v daném místě.\n",
    "\n",
    "   $$\\sigma(x) = \\frac{N(x)}{A(x)} $$"
   ]
  },
  {
   "cell_type": "markdown",
   "id": "3b6f400d-1905-4df9-9f99-39324c2cecaa",
   "metadata": {},
   "source": [
    "## Změna délky\n",
    "\n",
    "Poměrná změna délky v místě řezu je určena působícím napětím podle Hookeova zákona\n",
    "\n",
    "$$\\varepsilon(x) = \\frac{\\sigma(x)}{E(x)} $$\n",
    "\n",
    "Platí, že změnu celkové délky je možné získat integrovaním poměrné deformace po délce prutu\n",
    "\n",
    "$$\\Delta l = \\int\\limits_0^L \\varepsilon(x) \\mathrm{d}x = \\int\\limits_0^L  \\frac{\\sigma(x)}{E(x)} \\mathrm{d}x = \\int\\limits_0^L  \\frac{N(x)}{A(x)E(x)} \\mathrm{d}x$$\n",
    "\n",
    "Má-li homogenní izotropní tyč konstantního průřezu $A$ a  původní délky $L$ stejnou vnitřní sílou $N$ platí \n",
    "\n",
    "$$\n",
    "\\Delta L = \\frac{\\sigma L}{E} = \\frac{N L}{E A}\n",
    "$$\n",
    "\n",
    "V případě tyče se skokovou (nespojitou) změnou průřezu nebo při působení izolovaných sil platí:\n",
    "\n",
    "$$\n",
    "\\Delta L = \\sum\\limits_i \\Delta L_i = \\sum\\limits_i \\frac{N_i L_i}{E_i A_i}\n",
    "$$\n",
    "kde index $i$ značí úseky, který mají konstatní vnitřní sílu, průřez nebo materiál. \n"
   ]
  },
  {
   "cell_type": "markdown",
   "id": "70a328c5-0d63-4fc8-b9ea-0f971bd17d73",
   "metadata": {},
   "source": [
    "## Další studijní materiály"
   ]
  },
  {
   "cell_type": "code",
   "execution_count": 4,
   "id": "1e82af92-599b-482f-b82a-361a1532afb0",
   "metadata": {},
   "outputs": [
    {
     "data": {
      "image/jpeg": "[encoded data removed]",
      "text/html": [
       "\n",
       "        <iframe\n",
       "            width=\"800\"\n",
       "            height=\"300\"\n",
       "            src=\"https://www.youtube.com/embed/KUBMgkmXuIw\"\n",
       "            frameborder=\"0\"\n",
       "            allowfullscreen\n",
       "            \n",
       "        ></iframe>\n",
       "        "
      ],
      "text/plain": [
       "<IPython.lib.display.YouTubeVideo at 0x7a9cd7f12920>"
      ]
     },
     "execution_count": 4,
     "metadata": {},
     "output_type": "execute_result"
    }
   ],
   "source": [
    "YouTubeVideo('KUBMgkmXuIw', width=800)"
   ]
  },
  {
   "cell_type": "markdown",
   "id": "8baf9cdc-8d10-44df-967f-c2076d011f93",
   "metadata": {},
   "source": [
    "* [Radim Halama, Pružnost a pevnost - interaktivní studijní materiál Vysoká škola báňská – Technická univerzita Ostrava Západočeská univerzita v Plzni](https://mi21.vsb.cz/sites/mi21.vsb.cz/files/unit/pruznost_pevnost_obraz.pdf)"
   ]
  },
  {
   "cell_type": "markdown",
   "id": "7013665e-ade5-4268-9354-8870a4e91f89",
   "metadata": {},
   "source": []
  }
 ],
 "metadata": {
  "kernelspec": {
   "display_name": "Python 3 (ipykernel)",
   "language": "python",
   "name": "python3"
  },
  "language_info": {
   "codemirror_mode": {
    "name": "ipython",
    "version": 3
   },
   "file_extension": ".py",
   "mimetype": "text/x-python",
   "name": "python",
   "nbconvert_exporter": "python",
   "pygments_lexer": "ipython3",
   "version": "3.10.12"
  }
 },
 "nbformat": 4,
 "nbformat_minor": 5
}
