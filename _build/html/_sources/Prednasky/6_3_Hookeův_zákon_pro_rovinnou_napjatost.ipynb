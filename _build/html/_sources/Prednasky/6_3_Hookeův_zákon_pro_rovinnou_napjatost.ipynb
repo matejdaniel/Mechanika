{
 "cells": [
  {
   "cell_type": "markdown",
   "id": "50130c27-49a5-4447-a68f-c985a065cc65",
   "metadata": {},
   "source": [
    "# Rozšířený Hookeův zákon pro rovinnou napjatost\n",
    "\n",
    "Pro rovinnou napjatost je deformační odezva popsána následujícími rovnicemi:\n",
    "\n",
    "### Normálové deformace:\n",
    "\n",
    "$$\n",
    "\\varepsilon_x = \\frac{1}{E} \\left( \\sigma_x - \\nu \\sigma_y \\right)\n",
    "$$\n",
    "\n",
    "$$\n",
    "\\varepsilon_y = \\frac{1}{E} \\left( \\sigma_y - \\nu \\sigma_x \\right)\n",
    "$$\n",
    "\n",
    "### Smyková deformace:\n",
    "\n",
    "$$\n",
    "\\gamma_{xy} = \\frac{\\tau_{xy}}{G}\n",
    "$$\n",
    "\n",
    "kde:\n",
    "- $E$ je Youngův modul pružnosti,\n",
    "- $G = \\frac{E}{2(1+\\nu)}$ je modul pružnosti ve smyku,\n",
    "- $\\nu$ je Poissonovo číslo,\n",
    "- $\\varepsilon_x, \\varepsilon_y$ jsou normálové deformace ve směrech $x$ a $y$,\n",
    "- $\\gamma_{xy}$ je smyková deformace.\n",
    "\n",
    "## Maticové vyjádření\n",
    "\n",
    "V maticovém tvaru lze Hookeův zákon pro rovinnou napjatost zapsat jako:\n",
    "\n",
    "$$\n",
    "\\begin{bmatrix} \n",
    "\\varepsilon_x \\\\ \n",
    "\\varepsilon_y \\\\ \n",
    "\\gamma_{xy}\n",
    "\\end{bmatrix}\n",
    "=\n",
    "\\frac{1}{E} \n",
    "\\begin{bmatrix} \n",
    "1 & -\\nu & 0 \\\\ \n",
    "-\\nu & 1 & 0 \\\\ \n",
    "0 & 0 & 2(1+\\nu)\n",
    "\\end{bmatrix}\n",
    "\\begin{bmatrix} \n",
    "\\sigma_x \\\\ \n",
    "\\sigma_y \\\\ \n",
    "\\tau_{xy}\n",
    "\\end{bmatrix}\n",
    "$$"
   ]
  }
 ],
 "metadata": {
  "kernelspec": {
   "display_name": "Python 3 (ipykernel)",
   "language": "python",
   "name": "python3"
  },
  "language_info": {
   "codemirror_mode": {
    "name": "ipython",
    "version": 3
   },
   "file_extension": ".py",
   "mimetype": "text/x-python",
   "name": "python",
   "nbconvert_exporter": "python",
   "pygments_lexer": "ipython3",
   "version": "3.10.12"
  }
 },
 "nbformat": 4,
 "nbformat_minor": 5
}
