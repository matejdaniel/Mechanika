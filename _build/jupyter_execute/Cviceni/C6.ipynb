{
 "cells": [
  {
   "cell_type": "markdown",
   "id": "480e2a9f-5435-4b9a-bc7e-1053164fd043",
   "metadata": {},
   "source": [
    "# 6. cvičení\n",
    "\n",
    "1. Závaží B o hmotnosti 10 kg je uvázáno na laně, jak ukazuje obrázek. Vzdálenost AB je konstantní. Jak těžké závaží P je potřeba zvolit, aby α = 45°, β = 60°? Jak velké bude v tomto případě namáhání lana AB?\n",
    "\n",
    "    ![obr1](https://reseneulohy.cz/media/00521/604_uhlovazi.page.tagged.gif)\n",
    "\n",
    "   \n",
    "   [Řešení](https://reseneulohy.cz/521/zavazi-na-lane)\n",
    "\n",
    "3. Dva muži nesou na ramenech homogenní dřevěný trám o délce L = 6 m. Jeden z mužů podpírá trám na jeho konci. Jak daleko od druhého konce podpírá trám druhý muž, tlačí-li trám na jeho rameno silou o 50 % větší než na rameno prvního muže?\n",
    "\n",
    "   [Řešení](https://reseneulohy.cz/513/problem-s-tramem)\n",
    "\n",
    "4. Na kladce o hmotnosti $M$ jsou zavěšena dvě závaží o hmotnostech $m_1$ a $m_2$ způsobem zachyceným na obrázku. Kladka i závaží jsou v klidu. Jaký je poměr mezi $r_1$ a $r_2$, jestliže platí $4m_1=m_2$?\n",
    "\n",
    "   ![obr3](https://reseneulohy.cz/media/00605/004_kladas.page.tagged.gif)\n",
    "\n",
    "   \n",
    "   [Řešení](https://reseneulohy.cz/605/rovnovaha-na-kladce)\n",
    "\n",
    "5. Ke stěně je přistaven žebřík. Koeficient statického tření žebříku o stěnu je $f_1$ = 0,3, o podlahu $f_2$ = 0,4. Těžiště žebříku je v jeho středu. Určete, jaký nejmenší úhel α může svírat žebřík s podlahou, aby neklouzal.\n",
    "\n",
    "   [Řešení](https://reseneulohy.cz/513/problem-s-tramem)\n",
    "\n",
    "6. Závaží, na které působí tíhová síla $F_G$, je upevněno na dvou tyčích K a L. Obecně vyjádřete velikost sil přenášených tyčemi K a L.\n",
    "\n",
    "   ![obr5](https://reseneulohy.cz/media/01134/sily1.page.tagged.png)\n",
    "\n",
    "   \n",
    "   [Řešení](https://reseneulohy.cz/1134/rozklad-sil)\n",
    "\n",
    "7. Předpokládejme, že se kůň opře o zeď jako na obrázku a napodobuje scénu z komediálního filmu Cat Ballou. Vypočítejte sílu působící na stěnu za předpokladu, že síla je vodorovná a použijte data ve schematickém znázornění situace. Celková hmotnost koně a jezdce je 500 kg.\n",
    "\n",
    "    ![obr6](https://openstax.org/apps/archive/20250226.165223/resources/e190da906bc0dab0a564cecdee3f9bcb97495622)\n",
    "\n",
    "8. (a) Jakou silou musí vyvinout vítr, aby podepřel 2,50 kg kuře v poloze znázorněné na obrázku (b) Jaký je poměr této síly k hmotnosti kuřete? c) Podporuje to tvrzení, že kuře má relativně stabilní konstrukci?\n",
    "\n",
    "    ![obr7](https://openstax.org/apps/archive/20250226.165223/resources/a50579fd81d242db87175cba27f7e335a320d830)\n",
    "\n",
    "\n",
    "9. Reklamní stojan je zkonstruován podle obrázku. Hmotnost jedné tabule je 8,00 kg. (a) Vypočítejte napětí v řetězu za předpokladu, že mezi nohami a chodníkem není tření. (b)  Jaký minimální součinitel tření je potřeba mezi nohama a zemí, aby se nápis na obrázku udržel v zobrazené poloze, pokud se řetěz přetrhne? (c) Jaká síla působí na závěs v případě (a), (b)? \n",
    "\n",
    "   ![obr7](https://openstax.org/apps/archive/20250226.165223/resources/97fd8c85e2e5308f4e1fdbf8d747ef093c76b1a1)\n",
    "\n",
    "\n",
    "10. Právě jste na trávníku před domem zasadili statnou palmu vysokou 2 m k narozeninám vaší matky. Váš bratr kopne do míče o hmotnosti 500 g, který dopadne na vrchol stromu rychlostí 5 m/s a zůstane s ním v kontaktu po dobu 10 ms. Míč dopadne na zem v blízkosti paty stromu a zpětný ráz stromu je minimální. (a) Jaká síla působí na strom? (b) Délka pevného úseku kořene je pouze 20 cm. Navíc je půda kolem kořenů kyprá a můžeme předpokládat, že účinná síla působí na špičce délky 20 cm. Jaká účinná síla působí na konci špičky kořene, aby se strom nevyvrátil? Předpokládejte, že se strom spíše vyvrátí než ohne. (c) Co jste mohli udělat, aby se strom snadno nevyvrátil?\n",
    "\n",
    "11. Předpokládejme, že dvě děti používají stejnoměrnou houpačku, která je dlouhá 3,00 m a jejíž těžiště je nad otočným bodem. První dítě má hmotnost 30,0 kg a sedí ve vzdálenosti 1,40 m od čepu.\n",
    "    * (a) Vypočítejte, kde musí sedět druhé dítě o hmotnosti 18,0 kg, aby houpačku vyvážilo.\n",
    "    * (b) Co je na výsledku nerozumného?\n",
    "    * (c) Který předpoklad je špatný, případně které předpoklady jsou nekonzistentní?"
   ]
  }
 ],
 "metadata": {
  "kernelspec": {
   "display_name": "Python 3 (ipykernel)",
   "language": "python",
   "name": "python3"
  },
  "language_info": {
   "codemirror_mode": {
    "name": "ipython",
    "version": 3
   },
   "file_extension": ".py",
   "mimetype": "text/x-python",
   "name": "python",
   "nbconvert_exporter": "python",
   "pygments_lexer": "ipython3",
   "version": "3.10.12"
  }
 },
 "nbformat": 4,
 "nbformat_minor": 5
}