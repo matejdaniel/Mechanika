{
 "cells": [
  {
   "cell_type": "markdown",
   "id": "b2115995-ec23-4827-beac-e8f38d4007c6",
   "metadata": {},
   "source": [
    "# Mechanické vlastnosti materiálu"
   ]
  },
  {
   "cell_type": "markdown",
   "id": "48d72051-5884-487e-a3ff-1f536014f506",
   "metadata": {},
   "source": [
    "## Přehled mechanických vlastností materiálu\n",
    "\n",
    "Mechanické vlastnosti charakterizují chování materiálů při působení vnějších sil. Mají rozhodující význam pro výpočet strojních součástí. Patří sem pevnost, houževnatost, tvrdost a pružnost.\n",
    "\n",
    "1. **Pevnost** je schopnost materiálu odolávat mechanickým silám, rozlišujeme pevnost v tahu, tlaku, krutu, smyku/střihu a ohybu. Je definována jako největší napětí, které je třeba k porušení materiálu. Za porušení materiálu se považuje nejen rozdělení materiálu na dvě části, ale i vznik trhlin. Pevnost zkoušíme pomocí tzv. statické tahové zkoušky, při které zatěžujeme vzorek pozvolna se zvětšující silou a zkoumáme, při jaké velikosti síly se zkušební vzorek poruší.\n",
    "\n",
    "2. **Pružnost** je schopnost materiálu deformovat se působením vnějších sil a po odstranění těchto sil se vrátit do původního stavu. Pružným materiálem je např. guma (pryž).\n",
    "\n",
    "3.  **Houževnatost** je schopnost materiálu odolávat rázům. Je definována jako velikost práce, která je nutná k rozdělení materiálu na dvě části. Opakem houževnatosti je křehkost. Křehký materiál je např. sklo, houževnatý materiál je např. ocel. Houževnatost se zkoumá tím, že vzorek vystavíme rázu. Při přeražení zkušební tyče se spotřebuje určité množství práce, velikost této práce dokážeme spočítat.\n",
    "\n",
    "4. **Tvrdost** je odpor materiálu proti vnikání cizího tělesa. Zjišťuje se vtlačováním tvrdého tělíska do zkoušeného materiálu a měřením hloubky popř. šířky vtisku. Tvrdost zvyšujeme u kovů kalením – to je ohřátím na určitou teplotu a prudkým ochlazením. Takto se např. zpracovávají kalené kuličky do kuličkových ložisek.\n",
    "\n",
    "\n"
   ]
  },
  {
   "cell_type": "markdown",
   "id": "ad68b380-5e60-48e3-9748-70632272bdfe",
   "metadata": {},
   "source": [
    "## Přehled technologických vlastností materiálu\n",
    "\n",
    "1. **Tvárnost**  je vhodnost materiálu ke zpracování pomocí tváření. V tuhém stavu materiál změní působením vnějších sil svůj tvar, ale přitom se neporuší soudržnost - tj. v materiálu nevzniknou trhlinky. Tvar vzniklý působením vnějších sil zůstaně zachovaný i po odstranění působících sil. Tato vlastnost je typická pro kovy a je důležitá pro kování, válcování, lisování.\n",
    "2. **Obrobitelnost** je způsobilost materiálu pro třískové obrábění (soustružení, frézování apod.). Posuzuje se podle mechanických vlastností, podle řezného odporu a podle způsobu tvorby třísky.\n",
    "3. **Slévatelnost** je soubor vlastností nutných pro vytvoření kvalitního odlitku. Ovlivňují ji teplota tání a tuhnutí, tepelná vodivost, viskozita, tepelná roztažnost a smrštivost.\n",
    "4. **Svařitelnost** je schopnost materiálu vytvořit pomocí svařování ze dvou částí jeden nerozebíratelný celek.\n",
    "5. **Odolnost proti opotřebení** proti opotřebení je odolnost proti působení vnějších sil, které způsobují postupné ubývání materiálu."
   ]
  },
  {
   "cell_type": "markdown",
   "id": "abb6f880-642b-4360-aa9e-478919529430",
   "metadata": {},
   "source": [
    "## Určování mechanických a technologických vlastností\n",
    "\n",
    "**Normy** pro testování materiálů, včetně norem ISO, poskytují pokyny a specifikace pro hodnocení mechanických vlastností materiálů. Tyto normy jsou klíčové pro zajištění konzistence a spolehlivosti při používání materiálů a testovacích metodik napříč různými průmyslovými odvětvími. Testy a postupy vhodné pro měření různých vlastností materiálů, jako je pevnost, odolnost a další charakteristiky, jsou součástí těchto norem. Tyto testy se provádějí s využitím univerzálních testovacích strojů.\n",
    "\n",
    ":::{image} https://barrus-testing.com/wp-content/uploads/2024/02/barrus_astm_iso-768x331.jpg\n",
    ":width:300px\n",
    ":::\n",
    "\n",
    "Tyto normy jsou vyvíjeny a publikovány známými organizacemi, jako jsou **ASTM** (American Society for Testing and Materials), **ISO** (International Organization for Standardization) a dalšími subjekty. Existují také regionální a národní doporučení, jako například:\n",
    "\n",
    "* EN – Euronorm – evropské normy\n",
    "* DIN – Deutsches Institut für Normung, německá národní normalizační organizace\n",
    "* ČSN - české technické normy\n",
    "\n",
    "Vzhledem k tomu, že jsou tato doporučení harmonizována, jsou dnes obecně totožná. Tyto organizace zajišťují univerzální použitelnost a přijetí těchto norem. Normy pro testování materiálů definují testovací postupy, zařízení, přípravu vzorků, rozměry vzorků, vlastnosti a metody vyhodnocování výsledků. Obecně přijaté testovací metody usnadňují srovnatelnost výsledků.\n",
    "\n",
    "Srovnatelnost je klíčová v těměř každém průmyslovém odvětví, včetně letectví, automobilového průmyslu, stavebnictví a zdravotnických zařízení, kde selhání materiálu může mít závažné následky. Během vývoje nových materiálů nebo produktů poskytují normy pro testování materiálů referenční hodnoty pro hodnocení nových materiálů oproti stávajícím.\n",
    "\n",
    "Zkoušky materálu můžeme rozdělit do dvou skupin: destruktivní a nedestruktivní. Při použití destruktivní metody zkoušení se zkušební vzorek poruší. Při použití nedestruktivní metody zkoušení zkušbní vzorek zůstává v původním tvaru. \n",
    "\n",
    "| Norma ISO | Norma ASTM | Název normy | Popis zkoušek |\n",
    "|-----------|-----------|-------------|---------------|\n",
    "| ISO 6892-1 | ASTM E8 / E8M | Tahové testování při pokojové teplotě | Stanovuje metody testování pevnosti v tahu, meze kluzu, deformace a zmenšení průřezu kovů. Definuje postup tahových testů na standardizovaných vzorcích kovů při pokojové teplotě a umožňuje stanovení důležitých mechanických vlastností. |\n",
    "| ISO 6892-2 | ASTM E21 | Tahové testování při vysokých teplotách | Definuje tahové testy na kovech při vysokých teplotách. |\n",
    "| ISO 148-1 | ASTM E23 | Rázová zkouška Charpy | Popisuje metodu Charpyho rázové zkoušky kovů. Test měří pevnost a odolnost materiálu při nárazu. |\n",
    "| ISO 12135 | ASTM E399 | Test odolnosti proti iniciaci a růstu trhlin | Stanovuje metodu určování vlastností iniciace a růstu trhlin v kovech. |\n",
    "| ISO 6508 | ASTM E18 | Zkouška tvrdosti Rockwell | Popisuje zkoušku tvrdosti kovových materiálů metodou Rockwell. |\n",
    "| ISO 6507 | ASTM E384 | Zkouška tvrdosti Vickers | Popisuje zkoušku tvrdosti kovových materiálů metodou Vickers. |\n",
    "| - | ASTM E92 | Zkouška tvrdosti Vickers & Knoop | Popisuje zkoušku tvrdosti kovových materiálů metodami Vickers a Knoop. |\n",
    "| ISO 6506 | ASTM E10 | Zkouška tvrdosti Brinell | Popisuje zkoušku tvrdosti kovových materiálů metodou Brinell. |"
   ]
  }
 ],
 "metadata": {
  "kernelspec": {
   "display_name": "Python 3 (ipykernel)",
   "language": "python",
   "name": "python3"
  },
  "language_info": {
   "codemirror_mode": {
    "name": "ipython",
    "version": 3
   },
   "file_extension": ".py",
   "mimetype": "text/x-python",
   "name": "python",
   "nbconvert_exporter": "python",
   "pygments_lexer": "ipython3",
   "version": "3.10.12"
  }
 },
 "nbformat": 4,
 "nbformat_minor": 5
}