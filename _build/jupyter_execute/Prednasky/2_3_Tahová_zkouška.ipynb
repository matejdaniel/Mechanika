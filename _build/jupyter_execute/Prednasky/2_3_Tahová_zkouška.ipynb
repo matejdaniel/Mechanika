{
 "cells": [
  {
   "cell_type": "markdown",
   "id": "b2115995-ec23-4827-beac-e8f38d4007c6",
   "metadata": {},
   "source": [
    "# Tahová zkouška"
   ]
  },
  {
   "cell_type": "code",
   "execution_count": 1,
   "id": "6ec049e0-0f08-4c7a-92e3-370636fd2b26",
   "metadata": {},
   "outputs": [],
   "source": [
    "from IPython.display import IFrame\n",
    "from IPython.display import YouTubeVideo"
   ]
  },
  {
   "attachments": {},
   "cell_type": "markdown",
   "id": "9f31f1a5-6d3d-4609-89b0-5ddfdf10b177",
   "metadata": {},
   "source": [
    "# Tahová zkouška\n",
    "\n",
    ":::{image} https://matca.cz/wp-content/uploads/2021/04/stress_strain_2.gif\n",
    ":width:300px\n",
    ":::\n",
    "\n",
    "Tahová zkouška je destruktivní mechanická zkouška materiálu, která slouží k určení jeho mechanických vlastností při tahovém zatížení. Při zkoušce se zkušební vzorek upne do trhacího stroje a postupně se zatěžuje tahovou silou. Během zkoušky se měří prodloužení vzorku a síla, která na něj působí. Z naměřených dat se pak sestavuje tahový diagram, ze kterého se vyhodnocují mechanické vlastnosti materiálu.\n",
    "\n",
    "Všeobecně se rozlišují zkoušky tahem pod \n",
    "* **statickým zatížením** - stálé konstantní zatížení\n",
    "* **kvazistatickým zatížením** - zatížení plynule narůstá a působí plynule (kvazistaticky). Horní mez pro kvazistatické zkušební metody se pohybuje na rychlosti deformace přibližně 10-1/s, proto maximální nárůst (např. deformace) nesmí být větší než 0,1 % / s\n",
    "* **cyklickým zatížením** - zatížení se periodicky mění\n",
    "* **rázovým zatížením** - prudká změna zatížení\n",
    "\n",
    "# Postup zkoušky\n",
    "\n",
    "1.  **Příprava vzorku**: Z materiálu se vyrobí zkušební vzorek normalizovaných rozměrů a tvaru.  \n",
    "2.  **Upnutí vzorku**: Vzorek se upne do čelistí trhacíhbo stroje.\n",
    "3.  **Zatěžování vzorku**: Vzorek se postupně zatěžuje tahovou silou.\n",
    "4.  **Měření dat**: Během zkoušky se měří prodloužení vzorku a působící síla.\n",
    "5.  **Sestavení diagramu**: Z naměřených dat se sestaví tahový diagram, který zobrazuje závislost napětí na deformaci.\n",
    "6.  **Vyhodnocení parametrů**: Z tahového diagramu se vyhodnotí mechanické vlastnosti materiálu. "
   ]
  },
  {
   "cell_type": "markdown",
   "id": "c36919b0-d320-4ad9-b104-3cf12e780f2f",
   "metadata": {},
   "source": [
    "## Tahový diagram\n",
    "\n",
    "Průběh zkoušky je graficky zaznamenán pomocí tahového diagramu, který je závislostí síly (napětí) na prodloužení (poměrném prodloužení) zkušebního tělesa. Rozlišujeme tři typy tahového diagramu:\n",
    "1. **diagram pracovní** - závislost síly $F$ na prodloužení $\\Delta l$)\n",
    "2. **diagram smluvní** - závislost smluvného napětí $\\sigma_s$ na poměrném prodloužení $\\varepsilon$, vztažená k původním rozměrům vzorku) a\n",
    "3. **diagram skutečný** - závislost skutečného napětí $\\sigma$ na skutečném prodloužení $\\epsilon$, vztažená ke skutečným aktuálním rozměrům vzorku v průběhu zkoušky.\n",
    "\n",
    "Nejčastěji se využívá smluvní tahový diagram. Smluvní napětí $\\sigma_s$ je dáno vztahem\n",
    "\n",
    "$$\\sigma_s = \\frac{F}{A_0}$$\n",
    "\n",
    "kde $F$ je zatěžující síla a $A_0$ je původní průřez zatěžovaného vzorku. Poměrné podélné prodloužení $\\varepsilon$ definované vztahem\n",
    "\n",
    "$$\\varepsilon = \\frac{\\Delta l}{l_0} = \\frac{l - l_0}{l_0}$$\n",
    "\n",
    "kde $l$ je délka vzorku po zatížení silou $F$ a $l_0$ je původní délka vzorku.\n",
    "\n",
    ":::{image} https://www.admet.com/wp-content/uploads/2017/07/ductile-specimen-shape-during-testing.png\n",
    ":width:500px\n",
    ":::\n",
    "\n",
    "1. **Elastická oblast**  \n",
    "    - Vztah mezi napětím a deformací je **lineární**.  \n",
    "    - Po odstranění zatížení se materiál **vrátí do původního tvaru**.  \n",
    "    - Materiál se řídí **Hookeovým zákonem** a platí přímá úměrnost mezi napětím a deformací.  \n",
    "    - **Směrnice přímky** v této oblasti definuje důležitou materiálovou vlastnost – **Youngův modul pružnosti** (modul pružnosti v tahu).  \n",
    "\n",
    "2. **Přechod do plastické oblasti**\n",
    "    - Při dosažení určitého napětí **materiál přechází z elastické do plastické oblasti**.  \n",
    "    - **Mez kluzu** označuje napětí, při kterém začíná trvalá (plastická) deformace.  \n",
    "    - **Elastické deformace jsou vratné, plastické deformace nejsou vratné**.  \n",
    "\n",
    "3. **Krčkování a lom materiálu**  \n",
    "    - Při **krčkování (necking)** dochází k nerovnoměrné plastické deformaci, při které se část vzorku **výrazně ztenčuje**.  \n",
    "    - V této oblasti vznikají vysoké koncentrace napětí, což vede ke konečnému **lomu materiálu**.  \n",
    "    - Po lomu lze vypočítat **procentuální prodloužení** a **celkové zmenšení průřezu vzorku**.\n",
    "\n",
    ":::{caution} Skutečné napětí není rovno smluvnému napětí\n",
    "V průběhu zkoušky dochází ke změně průřezu. Proto se skutečné napětí liší od smluvného napětí, při kterém se počítá s původní plochou průřezu.\n",
    ":::"
   ]
  },
  {
   "cell_type": "code",
   "execution_count": 2,
   "id": "fb5fabd5-b2d3-4fc5-8e9e-f54d9ec42615",
   "metadata": {},
   "outputs": [
    {
     "data": {
      "image/jpeg": "[encoded data removed]",
      "text/html": [
       "\n",
       "        <iframe\n",
       "            width=\"800\"\n",
       "            height=\"300\"\n",
       "            src=\"https://www.youtube.com/embed/67fSwIjYJ-E\"\n",
       "            frameborder=\"0\"\n",
       "            allowfullscreen\n",
       "            \n",
       "        ></iframe>\n",
       "        "
      ],
      "text/plain": [
       "<IPython.lib.display.YouTubeVideo at 0x7b6d048e6860>"
      ]
     },
     "execution_count": 2,
     "metadata": {},
     "output_type": "execute_result"
    }
   ],
   "source": [
    "YouTubeVideo('67fSwIjYJ-E', width=800)"
   ]
  },
  {
   "attachments": {},
   "cell_type": "markdown",
   "id": "320a3c6c-be95-4a3f-ad9f-3279b8d8b3ce",
   "metadata": {},
   "source": [
    "## Parametry vyhodnocované z tahové zkoušky\n",
    "\n",
    ":::{image} https://matca.cz/wp-content/uploads/2021/04/diagram_prelozeny.png\n",
    ":width:400px\n",
    ":::\n",
    "\n",
    "| **Parametr**                     | **Meze / Hodnoty**          | **Označení (ASTM)** | **Označení (ISO)** | **Definice** |\n",
    "|----------------------------------|---------------------------|----------------------|----------------------|--------------|\n",
    "| **Mez úměrnosti** *(Proportional Limit)* | $\\sigma_u$ (MPa)                 | PL                   | -                    | Nejvyšší napětí, při kterém je napětí úměrné deformaci podle Hookeova zákona. |\n",
    "| **Mez pružnosti** *(Elasticity Limit)* | $\\sigma_e$ (MPa)                 | EL                   | -                    | Mezní napětí, které po odtížení ( odlehčení ) nevyvolává trvalé deformace |\n",
    "| **Modul pružnosti** *(Young’s Modulus)* | E (GPa)                   | E                    | E                    | Poměr mezi napětím a deformací v elastické oblasti, určuje tuhost materiálu. |\n",
    "| **Mez kluzu** *(Yield Strength)* | $\\sigma_k$, $\\sigma_y$ (MPa)                 | YS                   | Re                | Napětí, při kterém materiál přechází z elastické do plastické oblasti. |\n",
    "| **Mez pevnosti v tahu** *(Ultimate Tensile Strength)* | $\\sigma_{UTS}, \\sigma_P$ (MPa)              | UTS                  | Rm                   | Nejvyšší dosažené napětí během tahové zkoušky před nástupem krčkování. |\n",
    "| **Procentuální prodloužení** *(Elongation at Break)* | A (%)                     | EL                   | A                    | Relativní prodloužení vzorku při lomu vyjádřené v procentech původní délky. |\n",
    "| **Kontrakce průřezu** *(Reduction of Area)* | Z (%)                     | RA                   | Z                    | Relativní zmenšení průřezu vzorku při lomu, vyjádřené v procentech původní plochy. |\n",
    "| **Skutečné napětí při lomu** *(True Fracture Stress)* | σ_f (MPa)                 | TFS                  | -                    | Skutečné napětí vypočtené s ohledem na skutečný zmenšený průřez v místě lomu. |\n",
    "\n",
    "* **Mez kluzu ($\\sigma_Y$)**: Napětí, při kterém dochází k náhlému plastickému toku materiálu (trvalé deformaci) bez nárůstu zatížení.\n",
    "    \n",
    "    $$\\sigma_Y = \\frac{F_Y}{A}$$\n",
    "\n",
    "    kde \n",
    "    * $F_{Y}$ je síla kluzu.\n",
    "    * $A$ je počáteční průřez vzorku.\n",
    "\n",
    "    Mez kluzu materiálů často není výrazná, a proto ji nelze při zkoušce tahem jednoznačně určit. V takových případech se vyhodnocuje smluvní mez kluzu. Smluvní mez kluzu se zpravidla určuje při plastickém prodloužení 0,2 %, proto se tato charakteristická hodnota označuje Rp0,2. V mnoha případech je možné stanovit jak hodnotu horní meze kluzu ReH, tak dolní meze kluzu ReL.\n",
    "\n",
    "    :::{image} https://upload.wikimedia.org/wikipedia/commons/9/95/Pracovni_diagram_Rp02.svg\n",
    "    :width:300px\n",
    "    :::\n",
    "      \n",
    "* **Pevnost v tahu ($\\sigma_{UTS}$)**: Maximální napětí, které materiál snese, než dojde k porušení.\n",
    "\n",
    "    $$\n",
    "    \\sigma_{UTS} = \\frac{F_{max}}{A}\n",
    "    $$    \n",
    "  \n",
    "    kde \n",
    "    * $F_{max}$ je maximální síla.\n",
    "    * $A$ je počáteční průřez vzorku.\n",
    "      \n",
    "    U kovových materiálů s výraznou mezí kluzu je maximální tahová síla definována jako nejvyšší dosažená síla až za oblastí s mezí kluzu. Maximální tahová síla po překročení meze kluzu může u méně zpevněných materiálů ležet i pod mezí kluzu, v tomto případě je pak mez pevnosti v tahu nižší než hodnota horní meze kluzu.\n",
    "\n",
    "## Tahový diagram pro různé materiály\n",
    "\n",
    "\n",
    "\n",
    "Tahový diagram je grafické znázornění závislosti napětí na deformaci. Pro různé materiály má diagram typický tvar, který se liší v závislosti na jejich vlastnostech.\n",
    "\n",
    "* **Křehké materiály** (*brittle*): Mají lineární tahový diagram a po překročení meze pevnosti dochází k náhlému lomu bez výrazných plastických deformací.\n",
    "* **Houževnaté (tažné) materiály** (*ductile*): Mají nelineární tahový diagram a po překročení meze kluzu dochází k plastickým deformacím, než dojde k lomu.\n",
    "\n",
    ":::{image} https://www.e-education.psu.edu/matse81/sites/www.e-education.psu.edu.matse81/files/images/lesson04/ductile%26brittle.png\n",
    ":width:500px\n",
    ":::\n",
    "\n",
    "**Houževnaté materiály**\n",
    "- **Absorpce energie**: Tažné materiály mohou absorbovat značné množství energie díky své schopnosti procházet plastickou deformací před zlomením.\n",
    "- **Deformace**: Tyto materiály vydrží značné plastické deformace, než dojde k jejich zlomení.\n",
    "- **Křivka napětí-deformace**: Křivka napětí-deformace tažných materiálů prochází všemi fázemi, jak bylo popsáno výše, včetně elastické deformace, kluzu, zpevnění a neckingu před zlomením.\n",
    "- **Příklady**: Měkká ocel, hliník, měď, guma a většina plastů.\n",
    "\n",
    "**Křehké materiály**\n",
    "- **Chování při zlomení**: Křehké materiály se lámou bez výrazné změny v prodloužení nebo plastické deformaci. Jejich křivka napětí-deformace je po mezní síle téměř vertikální, což naznačuje velmi malou plastickou deformaci.\n",
    "- **Konzistence pevnosti**: U křehkých materiálů jsou mez kluzu, mez pevnosti a mez porušení v podstatě stejné.\n",
    "- **Příklady**: Lité železo, keramika, sklo, beton a kámen.\n"
   ]
  }
 ],
 "metadata": {
  "kernelspec": {
   "display_name": "Python 3 (ipykernel)",
   "language": "python",
   "name": "python3"
  },
  "language_info": {
   "codemirror_mode": {
    "name": "ipython",
    "version": 3
   },
   "file_extension": ".py",
   "mimetype": "text/x-python",
   "name": "python",
   "nbconvert_exporter": "python",
   "pygments_lexer": "ipython3",
   "version": "3.10.12"
  }
 },
 "nbformat": 4,
 "nbformat_minor": 5
}