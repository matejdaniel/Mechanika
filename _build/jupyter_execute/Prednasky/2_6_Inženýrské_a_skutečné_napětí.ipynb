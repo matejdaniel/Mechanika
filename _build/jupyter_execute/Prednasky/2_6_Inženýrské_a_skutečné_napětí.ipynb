{
 "cells": [
  {
   "cell_type": "markdown",
   "id": "f05bafb7-255f-49ab-93dd-ffe63995d8fd",
   "metadata": {},
   "source": [
    "# Skutečné a smluvní napětí a deformace"
   ]
  },
  {
   "cell_type": "code",
   "execution_count": 1,
   "id": "0e7e810c-ede4-4cf4-8b9b-28c900faf131",
   "metadata": {},
   "outputs": [],
   "source": [
    "import numpy as np\n",
    "import matplotlib.pyplot as plt"
   ]
  },
  {
   "cell_type": "markdown",
   "id": "978a020f-44fd-4b13-9d0c-976343391150",
   "metadata": {},
   "source": [
    "V technické mechanice a pevnostní analýze se **smluvní napětí** a **smluvní deformace** používají pro popis materiálového chování. Tyto veličiny se zavádějí zejména v souvislosti s tažnými zkouškami a analýzou materiálových vlastností.  \n",
    "\n",
    ":::{image}https://yasincapar.com/wp-content/uploads/2020/10/Untitled-Project2.gif\n",
    ":::\n",
    "\n",
    "\n",
    "## Smluvní napětí (engineering stress) \n",
    "\n",
    "> Smluvní napětí $\\sigma_s$ se definuje jako podíl aktuální síly $F$ a **počáteční plochy příčného řezu** $A_0$ před deformací:  \n",
    "\n",
    "$$\n",
    "\\sigma_s = \\frac{F}{A_0}\n",
    "$$\n",
    "\n",
    "kde:  \n",
    "- $F$ je působící síla \\[N}\\],  \n",
    "- $A_0$ je počáteční plocha průřezu před deformací \\[m\\].  \n",
    "\n",
    "Tento přístup zjednodušuje výpočty, protože při velkých plastických deformacích dochází k výrazné změně průřezu, což by komplikovalo výpočet skutečného napětí.  \n",
    "\n",
    "### Rozdíl mezi smluvním a skutečným napětím  \n",
    "- **Smluvní napětí** – počítá s původním průřezem $A_0$, což je běžné v inženýrských výpočtech.  \n",
    "- **Skutečné napětí (true stress)** – vychází z aktuální plochy průřezu $S$ v daném okamžiku deformace, což je přesnější, ale složitější na výpočet:  \n",
    "\n",
    "$$\n",
    "\\sigma_t = \\frac{F}{A}\n",
    "$$\n",
    "\n",
    "kde $A$ je skutečná plocha průřezu v okamžiku měření.  \n",
    "\n",
    "## Smluvní deformace  (engineering strain) \n",
    "\n",
    "> Smluvní (technická) deformace $(\\varepsilon_s)$ se definuje jako podíl prodloužení délky a původní délky vzorku:  \n",
    "\n",
    "$$\n",
    "\\varepsilon_s = \\frac{\\Delta L}{L_0}\n",
    "$$\n",
    "\n",
    "kde:  \n",
    "- $\\Delta L = L - L_0$ je změna délky \\[m\\],  \n",
    "- $L_0$ je původní délka vzorku \\[m\\]).  \n",
    "\n",
    ":::{image}https://yasincapar.com/wp-content/uploads/2020/10/11-2.png\n",
    ":::\n",
    "\n",
    "### Rozdíl mezi smluvní a skutečnou deformací  \n",
    "- **Smluvní deformace** – používá počáteční délku $L_0$, což zjednodušuje výpočty.  \n",
    "- **Skutečná (logaritmická) deformace (true strain)** – bere v úvahu okamžitou délku \\(L\\), což je přesnější zejména pro velké deformace  \n",
    "\n",
    "## Odvození vztahu logaritmické deformace\n",
    "\n",
    "Vyjdeme z definice infinitesimálního přírůstku podélné deformace:\n",
    "\n",
    "$$\n",
    "d\\varepsilon_t = \\frac{dL}{L}\n",
    "$$\n",
    "\n",
    "Integrací této rovnice v mezích od $L_0$ (počáteční délka) po $L$ (aktuální délka) získáme:\n",
    "\n",
    "$$\n",
    "\\varepsilon_t = \\int_{L_0}^{L} \\frac{dL}{L}\n",
    "$$\n",
    "\n",
    "Tento integrál je elementární a **logaritmická deformace** je dána vztahem:\n",
    "\n",
    "$$\n",
    "\\varepsilon_t = \\ln{\\left( \\frac{L}{L_0} \\right)}\n",
    "$$\n",
    "\n",
    "### Vztah mezi logaritmickou a smluvní deformací  \n",
    "\n",
    "Pro malé deformace ($\\varepsilon_s \\ll 1$) se logaritmická deformace přibližně rovná smluvní deformaci:\n",
    "\n",
    "$$\n",
    "\\ln(1 + \\varepsilon_s) \\approx \\varepsilon_s, \\quad \\text{pro } \\varepsilon_s \\ll 1\n",
    "$$\n",
    "\n",
    "Pro velké deformace však platí:\n",
    "\n",
    "$$\n",
    "\\varepsilon_t = \\ln{\\frac{L}{L_0}} = \\ln\\left({\\frac{L0}{L_0} + \\frac{L-L0}{L_0}}\\right) =  \\ln(1 + \\varepsilon_s)\n",
    "$$\n",
    "\n",
    ":::{caution} \n",
    "Logaritmická deformace je vždy o něco menší než smluvní deformace při větších hodnotách $\\varepsilon_s$.\n",
    ":::"
   ]
  },
  {
   "cell_type": "code",
   "execution_count": 2,
   "id": "b001d6c0-d7d1-43eb-a56e-b27ce0288f19",
   "metadata": {},
   "outputs": [
    {
     "data": {
      "image/png": "[encoded data removed]",
      "text/plain": [
       "<Figure size 432x288 with 1 Axes>"
      ]
     },
     "metadata": {
      "needs_background": "light"
     },
     "output_type": "display_data"
    }
   ],
   "source": [
    "L0 = 1\n",
    "delta_L = 0.5\n",
    "L = np.linspace(L0,L0 + delta_L,100)\n",
    "\n",
    "epsilon_s = (L - L0)/L0\n",
    "epsilon_t = np.log(L/L0)\n",
    "# pro numpy log označuje přirozený logaritmus\n",
    "\n",
    "plt.plot(L, epsilon_s, label = \"smluvní deformace\")\n",
    "plt.plot(L, epsilon_t, label = \"skutečná deformace\")\n",
    "plt.xlabel(\"Délka vzorku (m)\")\n",
    "plt.ylabel(\"Poměrná deformace [1]\")\n",
    "plt.legend()\n",
    "plt.show()"
   ]
  }
 ],
 "metadata": {
  "kernelspec": {
   "display_name": "Python 3 (ipykernel)",
   "language": "python",
   "name": "python3"
  },
  "language_info": {
   "codemirror_mode": {
    "name": "ipython",
    "version": 3
   },
   "file_extension": ".py",
   "mimetype": "text/x-python",
   "name": "python",
   "nbconvert_exporter": "python",
   "pygments_lexer": "ipython3",
   "version": "3.10.12"
  }
 },
 "nbformat": 4,
 "nbformat_minor": 5
}