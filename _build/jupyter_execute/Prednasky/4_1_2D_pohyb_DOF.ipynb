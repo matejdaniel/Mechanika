{
 "cells": [
  {
   "cell_type": "markdown",
   "id": "fe688b89-b346-4114-ad90-4f8ace32e8f3",
   "metadata": {},
   "source": [
    "# Pohyb ve 2D prostoru"
   ]
  },
  {
   "cell_type": "code",
   "execution_count": 1,
   "id": "c8c08bd5-5769-4c1a-8527-93536eb80df7",
   "metadata": {},
   "outputs": [],
   "source": [
    "import numpy as np\n",
    "from matplotlib import pyplot as plt"
   ]
  },
  {
   "cell_type": "markdown",
   "id": "28d60e1c-6a3f-4467-9b80-ce96f7f9bc05",
   "metadata": {},
   "source": [
    "V dvourozměrném (2D) prostoru je pohyb bodu popsán pomocí dvou souřadnic, obvykle označených jako *x* a *y*. Tyto souřadnice určují polohu bodu v rovině. Pohyb bodu pak představuje změnu těchto souřadnic v čase.\n",
    "\n",
    "Stupeň volnosti (DOF) udává počet nezávislých parametrů, které jsou potřeba k jednoznačnému určení polohy a orientace tělesa v prostoru.\n",
    "\n",
    "* **Bod:** V 2D prostoru má bod dva stupně volnosti. To znamená, že k určení jeho polohy jsou potřeba dvě souřadnice (x, y). V 3D prostoru má bod tři stupně volnosti (x, y, z).\n",
    "* **Těleso:** V 2D prostoru má tuhé těleso tři stupně volnosti: dvě translační (posunutí ve směru osy x a y) a jeden rotační (otáčení kolem osy kolmé k rovině). V 3D prostoru má tuhé těleso šest stupňů volnosti: tři translační a tři rotační.\n",
    "\n",
    "### Popis pohybu\n",
    "\n",
    "Pohyb bodu ve 2D prostoru lze popsat různými způsoby:\n",
    "\n",
    "* **Trajektorie:** Trajektorie je křivka, kterou bod opisuje během svého pohybu. Matematicky ji lze vyjádřit jako funkci času:\n",
    "    * $$ x = f(t) $$\n",
    "    * $$ y = g(t) $$\n",
    "* **Vektor polohy:** Vektor polohy $\\mathbf{r}$ udává polohu bodu vzhledem k počátku souřadnicového systému. V 2D prostoru má tvar:\n",
    "    * $$ \\vec{r} = (x, y) $$\n",
    "* **Rychlost:** Rychlost $\\vec{v} = \\dot{\\vec{r}}$ udává změnu vektoru polohy v čase:\n",
    "  \n",
    "    * $$ \\mathbf{v} = \\frac{d\\vec{r}}{dt} = \\left( \\frac{dx}{dt}, \\frac{dy}{dt} \\right) $$\n",
    "\n",
    "* **Zrychlení:** Zrychlení $\\mathbf{a}$ udává změnu vektoru rychlosti v čase:\n",
    "    * $$ \\mathbf{a} = \\frac{d\\mathbf{v}}{dt} = \\left( \\frac{d^2x}{dt^2}, \\frac{d^2y}{dt^2} \\right) $$"
   ]
  }
 ],
 "metadata": {
  "kernelspec": {
   "display_name": "Python 3 (ipykernel)",
   "language": "python",
   "name": "python3"
  },
  "language_info": {
   "codemirror_mode": {
    "name": "ipython",
    "version": 3
   },
   "file_extension": ".py",
   "mimetype": "text/x-python",
   "name": "python",
   "nbconvert_exporter": "python",
   "pygments_lexer": "ipython3",
   "version": "3.10.12"
  }
 },
 "nbformat": 4,
 "nbformat_minor": 5
}