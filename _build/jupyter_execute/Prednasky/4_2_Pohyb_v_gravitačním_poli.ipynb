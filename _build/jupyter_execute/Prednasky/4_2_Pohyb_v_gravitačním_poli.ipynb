{
 "cells": [
  {
   "cell_type": "markdown",
   "id": "3a22b5fa-5007-4232-a3bb-c7562899a5c0",
   "metadata": {},
   "source": [
    "# Pohyb v gravitačním poli"
   ]
  },
  {
   "cell_type": "code",
   "execution_count": 1,
   "id": "c5495ff2-2fb1-4b72-ad8a-b0ce6cbd40e4",
   "metadata": {},
   "outputs": [],
   "source": [
    "import numpy as np\n",
    "import matplotlib.pyplot as plt\n",
    "%matplotlib notebook"
   ]
  },
  {
   "cell_type": "markdown",
   "id": "eab5f18d-913c-4413-ab23-50d5f89a17b5",
   "metadata": {},
   "source": [
    "Odvoďme pohybové rovnice pro vrh šikmý a prozkoumejme jejich charakteristiky. Pro zjednodušení uvažujme prozatím rovinný pohyb, zanedbejme odpor vzduchu a gravitační zrychlení, $g$=9.8m/s$^2$. Uvažujme těleso (které budeme považovat za hmotný bod) vržené do vzduchu s počátečním úhlem $\\theta$ vzhledem k horizontále (směr $x$) a počáteční rychlostí $\\vec{v_0}$.  \n",
    "\n",
    "> Superpozice pohybu je princip, který říká, že pokud na těleso působí několik nezávislých pohybů současně, výsledný pohyb tělesa je součtem (superpozicí) těchto jednotlivých pohybů. \n",
    "\n",
    ":::{caution}\n",
    " Princip superpozice platí, pokud jsou jednotlivé pohyby nezávislé na sobě. To znamená, že jeden pohyb neovlivňuje ostatní. \n",
    ":::\n",
    "\n",
    "$$\n",
    "\\begin{align}\n",
    "& x(t) = x_0 + v_0\\cos(\\theta)\\:t \\\\\n",
    "& y(t) = y_0 + v_0\\sin(\\theta)\\:t - \\frac{g\\:t^2}{2} \\\\\n",
    "& v_x(t) = v_0\\cos(\\theta) \\\\\n",
    "& v_y(t) = v_0\\sin(\\theta) - g\\:t \\\\\n",
    "& a_x(t) = 0 \\\\\n",
    "& a_y(t) = -g\n",
    "\\label{eq_1}\n",
    "\\end{align}\n",
    "$$"
   ]
  },
  {
   "cell_type": "markdown",
   "id": "e8621bd7-8600-43c9-b0eb-4c0ad027f460",
   "metadata": {},
   "source": [
    "## Doba letu\n",
    "\n",
    "Z rovnice pro vertikální rychlost lze vypočítat dobu letu, přičemž se využije vlastnosti, že v maximální výšce je vertikální rychlost nulová a doba stoupání se rovná době klesání. \n",
    "\n",
    "$$ t_{flight} = \\frac{2v_0\\sin(\\theta)}{g}$$"
   ]
  },
  {
   "cell_type": "markdown",
   "id": "04565caa-36ff-4d85-967a-b08d22c8b027",
   "metadata": {},
   "source": [
    "## Maximální výška\n",
    "\n",
    "Použitím právě vypočítané hodnoty doby letu a opětovným využitím faktu, že v maximální výšce má těleso nulovou vertikální rychlost, lze maximální výšku, $h$, získat z rovnice pro vertikální polohu:\n",
    "\n",
    "$$h = \\frac{v_0^2\\sin^2(\\theta)}{2g} $$"
   ]
  },
  {
   "cell_type": "markdown",
   "id": "85984b93-f5b0-4bc5-b779-f1fa5e7854bd",
   "metadata": {},
   "source": [
    "# Dosah\n",
    "\n",
    "Dosah $L$ můžeme určit z doby letu\n",
    "\n",
    "$$ L = v_0\\cos(\\theta)\\:t_{flight}$$\n",
    "\n",
    "$$ L = v_0\\cos(\\theta)\\ \\frac{2 v_0^2\\sin(\\theta)}{g} = \\frac{v_0^2\\sin(2\\theta)}{g}$$"
   ]
  },
  {
   "cell_type": "markdown",
   "id": "2e4ab79e-014b-450f-85c3-89adbe8b55e2",
   "metadata": {},
   "source": [
    "## Trajektorie\n",
    "\n",
    "Rovnice pro horizontální polohu v závislosti na čase je rovnicí přímky a pro vertikální polohu je rovnicí paraboly. Můžeme dokázat, že prostorová trajektorie (vertikální poloha v závislosti na horizontální poloze) je také parabolou, pokud použijeme obě rovnice pro polohu a eliminujeme proměnnou čas:\n",
    "\n",
    "$$  y = y_0 + \\tan(\\theta)(x-x_0) - \\frac{g}{2v_0^2cos^2(\\theta)}(x-x_0)^2$$\n",
    "\n",
    "kde $y_0,\\: x_0,\\: \\theta,\\: v_0,\\: g$ jsou konstanty a rovnice je rovnicí paraboly. \n",
    "\n",
    "## Optimalizace trajektorie\n",
    "\n",
    "* **Maximální délka** $\\sin(2\\theta)=1$ a tedy $\\theta=45^\\circ$\n",
    "* **Maximální výška** $\\sin^2(\\theta)=1$ a tedy $\\theta=90^\\circ$"
   ]
  },
  {
   "cell_type": "markdown",
   "id": "3e1a752d-128f-40c6-b74e-003afb072469",
   "metadata": {},
   "source": [
    "## Interaktivní simulace"
   ]
  },
  {
   "cell_type": "code",
   "execution_count": 2,
   "id": "8ff0035d-31d7-4535-959a-9074cbe8e5ca",
   "metadata": {},
   "outputs": [
    {
     "data": {
      "text/html": [
       "\n",
       "        <iframe\n",
       "            width=\"100%\"\n",
       "            height=\"500\"\n",
       "            src=\"https://phet.colorado.edu/sims/html/projectile-motion/latest/projectile-motion_en.html\"\n",
       "            frameborder=\"0\"\n",
       "            allowfullscreen\n",
       "            \n",
       "        ></iframe>\n",
       "        "
      ],
      "text/plain": [
       "<IPython.lib.display.IFrame at 0x7fa5c080dcf0>"
      ]
     },
     "execution_count": 2,
     "metadata": {},
     "output_type": "execute_result"
    }
   ],
   "source": [
    "from IPython.display import IFrame\n",
    "IFrame('https://phet.colorado.edu/sims/html/projectile-motion/latest/projectile-motion_en.html',\n",
    "       width='100%', height=500)"
   ]
  }
 ],
 "metadata": {
  "kernelspec": {
   "display_name": "Python 3 (ipykernel)",
   "language": "python",
   "name": "python3"
  },
  "language_info": {
   "codemirror_mode": {
    "name": "ipython",
    "version": 3
   },
   "file_extension": ".py",
   "mimetype": "text/x-python",
   "name": "python",
   "nbconvert_exporter": "python",
   "pygments_lexer": "ipython3",
   "version": "3.10.12"
  }
 },
 "nbformat": 4,
 "nbformat_minor": 5
}