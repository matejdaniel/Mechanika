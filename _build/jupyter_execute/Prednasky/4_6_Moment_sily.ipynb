{
 "cells": [
  {
   "cell_type": "markdown",
   "id": "9372b682-fe39-4baa-8c20-a9073525b942",
   "metadata": {},
   "source": [
    "# Moment síly"
   ]
  },
  {
   "cell_type": "markdown",
   "id": "244025d4-2f41-4ac2-ab68-7c1d07396447",
   "metadata": {},
   "source": [
    "## Definice momentu síly\n",
    "\n",
    "Moment síly je vektorová veličina, která popisuje otáčivý účinek síly na těleso. Umožňuje nám analyzovat, jak síla ovlivňuje rotaci tělesa kolem dané osy.\n",
    "\n",
    "> Moment síly $\\mathbf{M}$ vzhledem k bodu O je definován jako vektorový součin polohového vektoru $\\mathbf{r}$ a síly $\\mathbf{F}$:\n",
    "\n",
    "$$\\vec{M} = \\vec{r} \\times \\vec{F}$$\n",
    "\n",
    "Kde:\n",
    "\n",
    "* $\\vec{M}$ je moment síly (vektor)\n",
    "* $\\vec{r}$ je polohový vektor od bodu O k působišti síly $\\mathbf{F}$\n",
    "* $\\vec{F}$ je síla (vektor)\n",
    "* $\\times$ označuje vektorový součin\n",
    "\n",
    "## Vlastnosti vektoru momentu síly\n",
    "\n",
    "* **Velikost:** Velikost momentu síly je dána vztahem:\n",
    "\n",
    "    $$|\\vec{M}| = |\\vec{r}| |\\vec{F}| \\sin(\\theta)$$\n",
    "\n",
    "    kde $\\theta$ je úhel mezi vektory $\\vec{r}$ a $\\vec{F}$.\n",
    "* **Směr:** Směr momentu síly je kolmý k rovině určené vektory $\\vec{r}$ a $\\vec{F}$. Určuje se pomocí pravidla pravé ruky: Pokud prsty pravé ruky ukazují směr otáčení od vektoru $\\vec{r}$ k vektoru $\\vec{F}$, palec ukazuje směr momentu síly.\n",
    "* **Jednotky:** Jednotkou momentu síly je newtonmetr (Nm).\n",
    "\n",
    "## Moment síly v rovině\n",
    "\n",
    "V rovině (2D) můžeme moment síly $\\vec{M}$ vypočítat pomocí maticového zápisu. Předpokládejme, že máme polohový vektor $\\vec{r} = (x, y)$ a sílu $\\vec{F} = (F_x, F_y)$.\n",
    "\n",
    "Vektorový součin ve 2D lze zapsat jako determinant matice:\n",
    "\n",
    "$$\\vec{M} = \\begin{vmatrix} \\vec{k} & \\vec{i} & \\vec{j} \\\\ 0 & x & y \\\\ 0 & F_x & F_y \\end{vmatrix}$$\n",
    "\n",
    "Kde:\n",
    "\n",
    "* $\\vec{i}$, $\\vec{j}$, $\\vec{k}$ jsou jednotkové vektory ve směru os x, y a z.\n",
    "\n",
    "Vyjádřením determinantu získáme:\n",
    "\n",
    "$$\\vec{M} = \\vec{k} (x F_y - y F_x)$$\n",
    "\n",
    "Vektor $\\vec{k}$ ukazuje, že moment síly směřuje kolmo k rovině xy (tj. ve směru osy z).\n",
    "\n",
    "V 2D nás obvykle zajímá pouze velikost momentu síly, která je dána skalární hodnotou:\n",
    "\n",
    "$$M = x F_y - y F_x$$\n",
    "\n",
    "## Znaménková konvence ve 2D\n",
    "\n",
    "* Moment síly, který způsobuje otáčení proti směru hodinových ručiček, je obvykle považován za kladný.\n",
    "*  Moment síly, který způsobuje otáčení ve směru hodinových ručiček, je obvykle považován za záporný."
   ]
  },
  {
   "cell_type": "markdown",
   "id": "a60146c5-46f8-4d13-9912-6fb90a1eac48",
   "metadata": {},
   "source": [
    "## Varignonova věta\n",
    "\n",
    "> Moment výslednice soustavy sil vzhledem k danému bodu se rovná součtu momentů jednotlivých sil této soustavy vzhledem k témuž bodu.\n",
    "\n",
    "Matematicky, pokud máme soustavu sil $\\vec{F}_1, \\vec{F}_2, ..., \\vec{F}_n$ působících na těleso a jejich výslednici $\\vec{R}$, pak moment výslednice $\\vec{M}_R$ vzhledem k bodu O je dán vztahem:\n",
    "\n",
    "$$\\vec{M}_R = \\vec{r} \\times \\vec{R} = \\sum_{i=1}^{n} (\\vec{r}_i \\times \\vec{F}_i) = \\vec{M}_1 + \\vec{M}_2 + ... + \\vec{M}_n$$\n",
    "\n",
    "kde:\n",
    "\n",
    "* $\\vec{M}_R$ je moment výslednice $\\vec{R}$ vzhledem k bodu O.\n",
    "* $\\vec{r}$ je polohový vektor od bodu O k působišti výslednice $\\vec{R}$.\n",
    "* $\\vec{r}_i$ je polohový vektor od bodu O k působišti síly $\\vec{F}_i$.\n",
    "* $\\vec{M}_i$ je moment síly $\\vec{F}_i$ vzhledem k bodu O.\n",
    "* $\\vec{R}$ je výslednice sil $\\vec{F}_1, \\vec{F}_2, ..., \\vec{F}_n$.\n",
    "\n",
    "### Význam\n",
    "\n",
    "* **Zjednodušení výpočtů:** Varignonova věta umožňuje nahradit výpočet momentu výslednice, který může být složitý, výpočtem součtu momentů jednotlivých sil.\n",
    "* **Analýza rovnováhy:** Pomáhá při analýze rovnováhy tělesa, protože součet momentů sil působících na těleso musí být nulový pro rotační rovnováhu.\n"
   ]
  }
 ],
 "metadata": {
  "kernelspec": {
   "display_name": "Python 3 (ipykernel)",
   "language": "python",
   "name": "python3"
  },
  "language_info": {
   "codemirror_mode": {
    "name": "ipython",
    "version": 3
   },
   "file_extension": ".py",
   "mimetype": "text/x-python",
   "name": "python",
   "nbconvert_exporter": "python",
   "pygments_lexer": "ipython3",
   "version": "3.10.12"
  }
 },
 "nbformat": 4,
 "nbformat_minor": 5
}