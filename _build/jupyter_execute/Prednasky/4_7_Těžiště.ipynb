{
 "cells": [
  {
   "cell_type": "markdown",
   "id": "49655f38-0a6b-48d6-b7b2-ec78b3756eb6",
   "metadata": {},
   "source": [
    "# Težiště"
   ]
  },
  {
   "cell_type": "markdown",
   "id": "6f9b2875-6a77-4954-90f9-a781a0cd6178",
   "metadata": {},
   "source": [
    "> Těžiště je bod, ve kterém je soustředěna celková hmotnost tělesa nebo soustavy těles.\n",
    "\n",
    "Těžiště to bod, ve kterém se těleso chová, jako by v něm byla soustředěna veškerá jeho hmotnost a je klíčovým konceptem ve statice a dynamice.\n",
    "\n",
    "#### Diskrétní objekty\n",
    "\n",
    "Pro soustavu diskrétních objektů (např. částic) s hmotnostmi $m_i$ a polohovými vektory $\\vec{r}_i$ je poloha těžiště $\\vec{r}_T$ dána vztahem:\n",
    "\n",
    "$$\\vec{r}_T = \\frac{\\sum\\limits_{i=1}^{n} m_i \\vec{r}_i}{\\sum\\limits_{i=1}^{n} m_i}$$\n",
    "\n",
    "kde:\n",
    "\n",
    "* $n$ je počet objektů\n",
    "* $m_i$ je hmotnost i-tého objektu\n",
    "* $\\vec{r}_i$ je polohový vektor i-tého objektu\n",
    "\n",
    "V kartézských souřadnicích můžeme tento vztah rozepsat pro jednotlivé osy:\n",
    "\n",
    "$$x_T = \\frac{\\sum_{i=1}^{n} m_i x_i}{\\sum_{i=1}^{n} m_i}$$\n",
    "\n",
    "$$y_T = \\frac{\\sum_{i=1}^{n} m_i y_i}{\\sum_{i=1}^{n} m_i}$$\n",
    "\n",
    "$$z_T = \\frac{\\sum_{i=1}^{n} m_i z_i}{\\sum_{i=1}^{n} m_i}$$\n",
    "\n",
    "#### Kontinuální objekty (integrály)\n",
    "\n",
    "Pro kontinuální objekty (např. tělesa s proměnnou hustotou) se výpočet těžiště provádí pomocí integrálů:\n",
    "\n",
    "$$\\vec{r}_T = \\frac{\\int \\vec{r} \\, dm}{\\int dm} = \\frac{\\int \\vec{r} \\, \\rho \\, dV}{\\int \\rho \\, dV}$$\n",
    "\n",
    "kde:\n",
    "\n",
    "* $dm$ je element hmotnosti\n",
    "* $\\rho$ je hustota tělesa\n",
    "* $dV$ je element objemu\n",
    "\n",
    "V kartézských souřadnicích:\n",
    "\n",
    "$$x_T = \\frac{\\int x \\, dm}{\\int dm} = \\frac{\\int x \\, \\rho \\, dV}{\\int \\rho \\, dV}$$\n",
    "\n",
    "$$y_T = \\frac{\\int y \\, dm}{\\int dm} = \\frac{\\int y \\, \\rho \\, dV}{\\int \\rho \\, dV}$$\n",
    "\n",
    "$$z_T = \\frac{\\int z \\, dm}{\\int dm} = \\frac{\\int z \\, \\rho \\, dV}{\\int \\rho \\, dV}$$\n",
    "\n",
    "Pro homogenní tělesa (konstantní hustota) se hustota $\\rho$ vykrátí a výpočet se zjednoduší na:\n",
    "\n",
    "$$x_T = \\frac{\\int x \\, dV}{\\int dV}$$\n",
    "\n",
    "$$y_T = \\frac{\\int y \\, dV}{\\int dV}$$\n",
    "\n",
    "$$z_T = \\frac{\\int z \\, dV}{\\int dV}$$\n",
    "\n",
    "kde $\\int dV$ je celkový objem tělesa."
   ]
  }
 ],
 "metadata": {
  "kernelspec": {
   "display_name": "Python 3 (ipykernel)",
   "language": "python",
   "name": "python3"
  },
  "language_info": {
   "codemirror_mode": {
    "name": "ipython",
    "version": 3
   },
   "file_extension": ".py",
   "mimetype": "text/x-python",
   "name": "python",
   "nbconvert_exporter": "python",
   "pygments_lexer": "ipython3",
   "version": "3.10.12"
  }
 },
 "nbformat": 4,
 "nbformat_minor": 5
}