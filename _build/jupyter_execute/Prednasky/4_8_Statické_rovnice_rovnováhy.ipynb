{
 "cells": [
  {
   "cell_type": "markdown",
   "id": "95165253-68dd-4c42-a38c-dbccc78807a5",
   "metadata": {},
   "source": [
    "# Statické rovnice rovnováhy v rovině"
   ]
  },
  {
   "cell_type": "markdown",
   "id": "86753bec-90c4-4ca0-b2b4-6eaee8904702",
   "metadata": {},
   "source": [
    "Mechanická rovnováha nastává, když je těleso nebo soustava těles v klidu. Statické rovnice rovnováhy jsou základní nástroje pro analýzu rovnováhy tuhých těles v rovině. Tyto rovnice vyjadřují podmínky, které musí být splněny, aby těleso zůstalo v klidu.\n",
    "\n",
    "## Vektorový zápis\n",
    "\n",
    "Vektorový zápis statických rovnic rovnováhy vyjadřuje, že výslednice všech sil a výsledný moment sil působících na těleso musí být nulové.\n",
    "\n",
    "$$\\sum \\vec{F} = \\vec{0}$$\n",
    "\n",
    "$$\\sum \\vec{M}_O = \\vec{0}$$\n",
    "\n",
    "Kde:\n",
    "\n",
    "* $\\sum \\vec{F}$ je vektorový součet všech sil působících na těleso.\n",
    "* $\\sum \\vec{M}_O$ je vektorový součet momentů všech sil vzhledem k bodu O.\n",
    "\n",
    "## Zápis pomocí složek\n",
    "\n",
    "V rovině můžeme vektorové rovnice rozepsat na složky v kartézském souřadnicovém systému (osy x a y).\n",
    "\n",
    "$$\\sum F_x = 0$$\n",
    "\n",
    "$$\\sum F_y = 0$$\n",
    "\n",
    "$$\\sum M_O = 0$$\n",
    "\n",
    "Kde:\n",
    "\n",
    "* $\\sum F_x$ je algebraický součet složek sil ve směru osy x.\n",
    "* $\\sum F_y$ je algebraický součet složek sil ve směru osy y.\n",
    "* $\\sum M_O$ je algebraický součet momentů sil vzhledem k bodu O.\n",
    "\n",
    "## Význam rovnic\n",
    "\n",
    "* **Rovnováha sil:** První dvě rovnice ($\\sum F_x = 0$ a $\\sum F_y = 0$) vyjadřují podmínku, že těleso se nepohybuje posuvně.\n",
    "* **Rovnováha momentů:** Třetí rovnice ($\\sum M_O = 0$) vyjadřuje podmínku, že těleso se neotáčí.\n",
    "\n",
    "## Použití\n",
    "\n",
    "Statické rovnice rovnováhy se používají k řešení mnoha problémů ve statice, například:\n",
    "\n",
    "* Určení reakcí vazeb.\n",
    "* Analýza nosníků, rámů a jiných konstrukcí.\n",
    "* Výpočet sil působících na tělesa v rovnováze.\n",
    "\n",
    "## Znaménková konvence\n",
    "\n",
    "Při řešení rovnic je důležité dodržovat znaménkovou konvenci:\n",
    "\n",
    "* Složky sil ve směru kladné osy x jsou kladné, proti směru záporné.\n",
    "* Složky sil ve směru kladné osy y jsou kladné, proti směru záporné.\n",
    "* Momenty sil, které způsobují otáčení proti směru hodinových ručiček, jsou kladné, ve směru hodinových ručiček záporné."
   ]
  },
  {
   "cell_type": "markdown",
   "id": "47a721fa-2239-4898-8505-a3c89b3a729a",
   "metadata": {},
   "source": [
    "## Rovnovážné stavy\n",
    "\n",
    "Rovnovážné stavy se dělí podle toho, jak se těleso chová při malém vychýlení z rovnovážné polohy:\n",
    "\n",
    "1.  **Stabilní rovnováha:**\n",
    "    * Při malém vychýlení z rovnovážné polohy se těleso vrací zpět do původní polohy.\n",
    "    * Příklad: Kulička v důlku.\n",
    "2.  **Labilní rovnováha:**\n",
    "    * Při malém vychýlení z rovnovážné polohy se těleso vzdaluje od původní polohy.\n",
    "    * Příklad: Kulička na vrcholu kopce.\n",
    "3.  **Indiferentní rovnováha:**\n",
    "    * Při malém vychýlení z rovnovážné polohy zůstává těleso v nové poloze.\n",
    "    * Příklad: Kulička na vodorovné rovině.\n",
    "\n",
    "### Faktory ovlivňující rovnovážné stavy\n",
    "\n",
    "* **Poloha těžiště:** Poloha těžiště tělesa hraje klíčovou roli při určování stability.\n",
    "* **Podpora:** Způsob, jakým je těleso podepřeno, ovlivňuje jeho stabilitu.\n",
    "* **Vnější síly:** Vnější síly působící na těleso mohou ovlivnit jeho rovnovážný stav.\n"
   ]
  }
 ],
 "metadata": {
  "kernelspec": {
   "display_name": "Python 3 (ipykernel)",
   "language": "python",
   "name": "python3"
  },
  "language_info": {
   "codemirror_mode": {
    "name": "ipython",
    "version": 3
   },
   "file_extension": ".py",
   "mimetype": "text/x-python",
   "name": "python",
   "nbconvert_exporter": "python",
   "pygments_lexer": "ipython3",
   "version": "3.10.12"
  }
 },
 "nbformat": 4,
 "nbformat_minor": 5
}