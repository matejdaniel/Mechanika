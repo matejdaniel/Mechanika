{
 "cells": [
  {
   "cell_type": "markdown",
   "id": "efd02d4d-13dc-46da-a1d5-f415cc58f4c3",
   "metadata": {},
   "source": [
    "# Analogie mezi kinematickými a dynamickými parametry rotačního a translačního pohybu\n",
    "\n",
    "| **Translační pohyb** | **Rotační pohyb** | Jednotka |\n",
    "|----------------------|------------------|----------|\n",
    "| Poloha $ x $ | Úhlová poloha $ \\varphi $ | m, rad |\n",
    "| Rychlost $ v = \\frac{dx}{dt} $ | Úhlová rychlost $ \\omega = \\frac{d\\varphi}{dt} $ | m/s, rad/s |\n",
    "| Zrychlení $ a = \\frac{dv}{dt} $ | Úhlové zrychlení $ \\alpha = \\frac{d\\omega}{dt} $ | m/s², rad/s² |\n",
    "| Hmotnost $ m $ | Moment setrvačnosti $ I $ | kg, kg·m² |\n",
    "| Síla $ F = m a $ | Moment síly (torque) $ M = I \\alpha $ | N, N·m |\n",
    "| Hybnost $ p = m v $ | Moment hybnosti $ L = I \\omega $ | kg·m/s, kg·m²/s |\n",
    "| Impuls síly $ \\Delta p = F t $ | Impuls momentu $ \\Delta L = M t $ | N·s, N·m·s |\n",
    "| Práce $ W = F s $ | Práce $ W = M \\varphi $ | J, J |\n",
    "| Kinetická energie $ T = \\frac{1}{2} m v^2 $ | Kinetická energie $ T = \\frac{1}{2} I \\omega^2 $ | J |\n"
   ]
  }
 ],
 "metadata": {
  "kernelspec": {
   "display_name": "Python 3 (ipykernel)",
   "language": "python",
   "name": "python3"
  },
  "language_info": {
   "codemirror_mode": {
    "name": "ipython",
    "version": 3
   },
   "file_extension": ".py",
   "mimetype": "text/x-python",
   "name": "python",
   "nbconvert_exporter": "python",
   "pygments_lexer": "ipython3",
   "version": "3.10.12"
  }
 },
 "nbformat": 4,
 "nbformat_minor": 5
}