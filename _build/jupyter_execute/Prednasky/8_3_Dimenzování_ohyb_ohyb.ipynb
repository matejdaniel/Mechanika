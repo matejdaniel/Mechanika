{
 "cells": [
  {
   "cell_type": "markdown",
   "id": "a37ca217-7359-43a5-a3d2-65dcecb7fcd9",
   "metadata": {},
   "source": [
    "## Dimenzování nosníků při kombinaci ohybu - ohyb ve dvou různých rovinách\n",
    "\n",
    "\n",
    "\n",
    "Při návrhu nosníků, které jsou vystaveny kombinaci ohybu ve dvou různých rovinách, je třeba zohlednit vzájemnou interakci mezi těmito dvěma ohybovými momenty. Tato situace se často vyskytuje u nosníků, které jsou zatěžovány ohybovými momenty jak v rovině $x$-$y$, tak v rovině $x$-$z$. Tento problém je typický pro nosníky, které mají složitější geometrii nebo jsou pod vlivem složitějších zatížení.\n",
    "\n",
    "### Krok 1: Určení ohybových momentů\n",
    "\n",
    "Pro kombinaci ohybu ve dvou rovinách máme dvě složky ohybového momentu:\n",
    "\n",
    "1. **Ohybový moment v rovině $x$-$y$**: $M_{xy}$\n",
    "2. **Ohybový moment v rovině $x$-$z$**: $M_{xz}$\n",
    "\n",
    "Celkový napjatý stav v těchto rovinách bude ovlivněn nejen těmito dvěma ohybovými momenty, ale také případnými silami, které mohou způsobit smykové napětí.\n",
    "\n",
    "### Krok 2: Zjednodušení pomocí superpozice\n",
    "\n",
    "Pro dimenzování je možné použít metodu **superpozice**, kde se nejprve spočítají účinky jednotlivých ohybových momentů a poté se sčítají. Při dimenzování nosníku v případě kombinovaného ohybu je třeba zohlednit:\n",
    "\n",
    "- **Výsledné napětí** v každém bodě nosníku, které se skládá z účinků obou ohybových momentů.\n",
    "- **Výsledné napětí v materiálu** je tedy kombinací napětí vyvolaných ohybem ve dvou rovinách.\n",
    "\n",
    "### Krok 3: Vzorec pro kombinované napětí\n",
    "\n",
    "Pro ohyb ve dvou různých rovinách se celkové napětí v libovolném bodě nosníku vyjádří jako součet napětí vyvolaných jednotlivými momenty. Pro rovinný ohyb v rovině $x$-$y$ a $x$-$z$ se celkové napětí ve vzdálenosti $y$ od osy zobrazuje následujícím vzorcem:\n",
    "\n",
    "$$\n",
    "\\sigma = \\frac{M_{xy} y}{J_{xy}} + \\frac{M_{xz} y}{J_{xz}}\n",
    "$$\n",
    "\n",
    "kde:\n",
    "- $\\sigma$ je výsledné napětí v bodě vzdáleném $y$ od neutrální osy.\n",
    "- $M_{xy}$ a $M_{xz}$ jsou ohybové momenty v rovinách $x$-$y$ a $x$-$z$.\n",
    "- $J_{xy}$ a $J_{xz}$ jsou momenty setrvačnosti průřezu nosníku v rovinách $x$-$y$ a $x$-$z$.\n",
    "\n",
    "### Krok 4: Kontrola mezní hodnoty napětí\n",
    "\n",
    "Pro ověření správnosti dimenzování je nutné porovnat výsledné napětí s mezí pevnosti materiálu nebo povoleným napětím:\n",
    "\n",
    "$$\n",
    "\\sigma \\leq \\sigma_{max}\n",
    "$$\n",
    "\n",
    "Pokud toto napětí překročí povolenou mez, je nutné upravit rozměry nosníku nebo změnit materiál."
   ]
  }
 ],
 "metadata": {
  "kernelspec": {
   "display_name": "Python 3 (ipykernel)",
   "language": "python",
   "name": "python3"
  },
  "language_info": {
   "codemirror_mode": {
    "name": "ipython",
    "version": 3
   },
   "file_extension": ".py",
   "mimetype": "text/x-python",
   "name": "python",
   "nbconvert_exporter": "python",
   "pygments_lexer": "ipython3",
   "version": "3.10.12"
  }
 },
 "nbformat": 4,
 "nbformat_minor": 5
}