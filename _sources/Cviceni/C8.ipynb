{
 "cells": [
  {
   "attachments": {},
   "cell_type": "markdown",
   "id": "53dfb465-44eb-4032-bcb7-b55f5a3508f2",
   "metadata": {},
   "source": [
    "# 8. cvičení\n",
    "\n",
    "## Hlavní napětí a směry\n",
    "\n",
    "1. Určete maximální smykové napětí u vzorku zatíženého tahem při standardní tahové zkoušce $\\sigma$. Řešte numericky a graficky.\n",
    "   * Pod jakým úhlem k ose vzorku probíhá rovina maximálního smykového napětí.\n",
    "   * Proč v daném případě platí zákon združených smykových napětí (vysvětelete graficky).\n",
    "2. Zapište poloměr Mohrovy kružnice dané $\\sigma_x, \\sigma_y$ a $\\tau_z$.\n",
    "3. Použijte Mohrovu  kružnici k zodpovězení otázek níže.\n",
    "   * Určete stav napjatosti.\n",
    "   * Najděte hlavní napětí a příslušné úhly rovin hlavních napětí. Zakreslete pozici hlavních rovin. \n",
    "   * Vypočítejte maximální smykové napětí a úhly maximálního smykového napětí. Zakreslete pozici maximálních rovin smykového napětí.\n",
    "   * Vysvětlete a zakreslete vzájemnou polohu rovin 1, 2, 3.\n",
    "\n",
    "![mohr](https://media.cheggcdn.com/study/06d/06d38af8-b4fa-4f9d-bb97-f4564a167fba/image)\n",
    "\n",
    "4. Zakreslete Mohrovu kružnici a určete numericky a graficky pro A,B,C\n",
    "   * hodnotu hlavních napětí a polohu hlavních rovin\n",
    "   * hodnotu maximálního smykového napětí a polohu roviny, ve které působí\n",
    "   * vysvětelete vztah mezi rovinou maximálního normálového a maximálního smykového napětí.\n",
    "\n",
    " * (A)\n",
    "\n",
    "   ![mohr2](https://homework.study.com/cimages/multimages/16/05.06.165828344807643164877.jpg)\n",
    "\n",
    " * (B)\n",
    "\n",
    "   ![mohr2](https://d2vlcm61l7u1fs.cloudfront.net/media%2F081%2F081e74de-8c2a-4e72-a62f-f8786abd8bfe%2FphpmOK8ix.png)\n",
    "\n",
    " * (C)\n",
    "\n",
    "   ![mohr2](https://d2vlcm61l7u1fs.cloudfront.net/media%2F9e7%2F9e770052-e159-4299-ad1c-ab2e501172ae%2FphpJ5DXpa.png)\n",
    "\n",
    "5. Která z Mohrových kružnic popisuje zatížení v bodě A.\n",
    "   ![krut](https://media.cheggcdn.com/study/a43/a4329816-1a30-483f-a4a7-74a13fa62db5/image)"
   ]
  }
 ],
 "metadata": {
  "kernelspec": {
   "display_name": "Python 3 (ipykernel)",
   "language": "python",
   "name": "python3"
  },
  "language_info": {
   "codemirror_mode": {
    "name": "ipython",
    "version": 3
   },
   "file_extension": ".py",
   "mimetype": "text/x-python",
   "name": "python",
   "nbconvert_exporter": "python",
   "pygments_lexer": "ipython3",
   "version": "3.10.12"
  }
 },
 "nbformat": 4,
 "nbformat_minor": 5
}
