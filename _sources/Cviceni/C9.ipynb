{
 "cells": [
  {
   "cell_type": "markdown",
   "id": "967c576f-dab6-43c0-bed1-2e46f328b42a",
   "metadata": {},
   "source": [
    "# 9. cvičení"
   ]
  },
  {
   "attachments": {},
   "cell_type": "markdown",
   "id": "61f9c875-c175-464a-ba33-a1580fddd879",
   "metadata": {},
   "source": [
    "## Metoda řezu\n",
    "\n",
    "1. Vysvětlete metodu řezu a zavedení vnitřních silových účinků. Který z vnitřních sílových účinků je nejdůležitější při ohybu a proč. Pdle čeho určíme kde dochází k porušení materiálu.\n",
    "   ![metoda řezu](https://i0.wp.com/solveredu.com/wp-content/uploads/2024/09/sily-wewnetrzne.jpg?w=939&quality=89&ssl=1)\n",
    "\n",
    "2. Určete ohybový moment v řezu $k$. Délka nosníku je 5 m, vzdálenost sil 1 m a velikost síly $P$ je 200 N. Zakreslete průběh ohybového momentu. \n",
    "   ![k](https://eng.libretexts.org/@api/deki/files/13466/fig4-1.jpg?revision=1)\n",
    "\n",
    "3. Určete průběh ohybového momentu při zatížení spojitým zatížením $w_0$ o velikosti 100 N/m. Co reprezentuje spojit0 zatížení. Určete reakce v místě vazby.\n",
    "\n",
    "   ![spojite](https://encrypted-tbn0.gstatic.com/images?q=tbn:ANd9GcTGzaQzxkuQ1mEPh8EcYXw3lmeE8J0sozmLf07p62FR-V3ctP4SSle_wi4OVZ7h4O7mJnQ&usqp=CAU). \n",
    "\n",
    "   \n",
    "5. Určete průběh ohybového momentu pro nosníky na obrázku.\n",
    "    ![nosniky](https://d2vlcm61l7u1fs.cloudfront.net/media%2F555%2F555cb641-a1fe-4e28-974a-e0cd57caf055%2FphphxQay0.png)\n",
    "\n",
    "    ![nosniky2](https://media.cheggcdn.com/study/d4e/d4e03634-45db-4439-bf35-67e3191e487c/image.jpg)\n",
    "\n",
    "   ![nosniky2](https://encrypted-tbn0.gstatic.com/images?q=tbn:ANd9GcRp5nu_7mEkq3UE58jQxuc-BKx1STqjUJlQHgG1y0YzVgpg0rtvYOf1C8mUpzCy3srJhWE&usqp=CAU)\n",
    "   \n",
    "\n",
    "7. Systém se skládá ze dvou nosníku. Pro každý z nich určete průběh ohybového momentu.\n",
    "\n",
    "   ![2nosniky](https://media.cheggcdn.com/study/6c3/6c3f07b0-298c-400e-91e7-7e01b411ca7b/image.jpg)\n",
    "\n",
    "8. Pro nosník na obrázku určete průběh ohybového momentu. O jaký způsob zatížení se jedná, když síla nepůsobí kolmo na osu nosníku.\n",
    "\n",
    "    ![prutnosnik](https://media.cheggcdn.com/media%2F4bd%2F4bd27cff-1d81-495a-94e4-d2ee3ee77cac%2FphpWoalCV.png)\n",
    "\n",
    "9. Určete průběh ohybového momentu pro nosník podle obrázku.\n",
    "\n",
    "    ![nosnikslozity](https://blogger.googleusercontent.com/img/b/R29vZ2xl/AVvXsEj5JevX1J8iJSftLcFlde-sJor_OnNyRcXZRLMUbgJy2Pa-R-7_56AMPkCJ4JUsAGHgl9uWJjiX34ORhyrTrvogvtmjuvG1QoOnWDc5Sg1ljLKS9j0OACtYfUHkNyel9_uLCPqpUm6307E/w640-h260/c2.png)\n"
   ]
  },
  {
   "cell_type": "markdown",
   "id": "be98293b-034e-45a0-b98b-961d5a23118f",
   "metadata": {},
   "source": [
    "## Kvadratický moment průřezu\n",
    "\n",
    "1. Odvoďte kvadratický moment průřezu pro obdélnikový profil o rozměrech $B$ a $H$. Od čeho závisí ohybová tuhost. \n",
    "\n",
    "2. Odvoďte kvadratický moment průřezu pro kruhový profil o průměru $D$.\n",
    "\n",
    "3. Využijte Steinerovu větu pro určení kvadratického momnetu průřezu pro I profil.\n",
    "\n",
    "![I](https://amesweb.info/section/images/i-beam.jpg)\n",
    "\n",
    "4. Určete kvadratický moment průřezu pro mezikruhový profil o vnějším průměru $D$ a vnitřním průměru $d$."
   ]
  },
  {
   "cell_type": "markdown",
   "id": "ad6208c4-45af-414d-a88f-490b625c4ae1",
   "metadata": {},
   "source": [
    "## Dimenzování vetknutých nosníků\n",
    "\n",
    "1. Člověk stojí na skokanském prkně v bodě $b$. Ve kterém místě a proč hrozí zlomení prkna. Jak se změní napětí v místě největšího zatížení, když se člověk posune na konec prkna. Hmotnost prkna zanedbejte.\n",
    "\n",
    "![fry](https://upload.wikimedia.org/wikipedia/commons/thumb/3/35/Clamped_beam_solved_example%2C_book_Biomechanika_1_by_Karel_Frydr%C3%BD%C5%A1ek.png/800px-Clamped_beam_solved_example%2C_book_Biomechanika_1_by_Karel_Frydr%C3%BD%C5%A1ek.png)\n",
    "\n",
    "2. Na obrázku je znázorněn betonový nosník o výšce 1 m a šířce 5 m. Jaká je jeho maximální délka, když mez pevnosti betonu v tahu je 2 MPa a mez pevnosti v tlaku je 16 MPa. Uvažujte, že konstrukční prvek je vyplněn betonem o hustotě  2400 kilogramů na metr kubický.\n",
    "\n",
    "![nosnik](https://i0.wp.com/theconstructor.org/wp-content/uploads/2020/10/What-is-a-Cantilever-Beam.jpg?fit=1080%2C1028&ssl=1)"
   ]
  }
 ],
 "metadata": {
  "kernelspec": {
   "display_name": "Python 3 (ipykernel)",
   "language": "python",
   "name": "python3"
  },
  "language_info": {
   "codemirror_mode": {
    "name": "ipython",
    "version": 3
   },
   "file_extension": ".py",
   "mimetype": "text/x-python",
   "name": "python",
   "nbconvert_exporter": "python",
   "pygments_lexer": "ipython3",
   "version": "3.10.12"
  }
 },
 "nbformat": 4,
 "nbformat_minor": 5
}
