{
 "cells": [
  {
   "cell_type": "markdown",
   "id": "44ed9249-b909-40d8-a038-340c2ba9ab1d",
   "metadata": {},
   "source": [
    "# Kinematika v 1DOF prostoru"
   ]
  },
  {
   "cell_type": "code",
   "execution_count": 2,
   "id": "9dc6ef6b-9bcf-475a-9125-01eed8137f54",
   "metadata": {},
   "outputs": [],
   "source": [
    "import numpy as np\n",
    "import matplotlib.pyplot as plt\n",
    "from IPython.display import IFrame"
   ]
  },
  {
   "cell_type": "markdown",
   "id": "4f1e8ba5-3e11-4837-b072-c03722af8ece",
   "metadata": {},
   "source": [
    "## Poloha v 1D\n",
    "\n",
    "1D prostor, neboli jednorozměrný prostor, je koncept, který se používá k popisu objektů nebo jevů, které mají pouze jednu dimenzi. Představte si přímku: ta je nekonečně dlouhá, ale nemá žádnou šířku ani hloubku. Vše, co se v 1D prostoru nachází, se dá popsat pouze pomocí jedné souřadnice. \n",
    "\n",
    "Za 1D prostor můžeme považovat také prostor, kdy pro popsání polohý nám stačí jedna souřadnice. I když se auto pohybuje v 3D prostoru, pro popsání jeho polohy na dálnici nám stačí pouze jedna souřadnice – vzdálenost od počátečního bodu dálnice. Poloha je omezena na jednu dimenzi, i když se odehrává v prostoru s vyšší dimenzí. \n",
    "\n",
    "```{warning}\n",
    "V případě obecného křivočarého pohybu vznikají neinerciální zrychlení a síly, např dostředivé zrychlení při pohybu po kružnici. \n",
    "```\n",
    "\n",
    "\n",
    "**Jak si představit 1D prostor**\n",
    "- *Přímka:* Nejjednodušší způsob, jak si představit 1D prostor, je jako přímku. Každý bod na této přímce je určen pouze jednou souřadnicí, která udává jeho vzdálenost od počátku.\n",
    "- *Časová osa:* Časová osa je také příkladem 1D prostoru. Události se odehrávají v čase a dají se popsat pouze jednou souřadnicí – časem.\n",
    "- *Struna:* Vibrující struna je fyzikální příklad 1D prostoru. Pohyb bodů na struně se dá popsat pouze jednou souřadnicí – vzdáleností od jednoho konce struny.\n",
    "\n",
    "**Matematický popis 1D prostoru**\n",
    "\n",
    "1D prostor se matematicky popisuje pomocí:\n",
    "* **Reálných čísel:** Každý bod v 1D prostoru je reprezentován reálným číslem.\n",
    "* **Souřadnicové osy:** 1D prostor má pouze jednu souřadnicovou osu, obvykle označenou jako osa x.\n",
    "* **Vzdálenosti:** Vzdálenost mezi dvěma body v 1D prostoru se vypočítá jako absolutní hodnota rozdílu jejich souřadnic."
   ]
  },
  {
   "cell_type": "markdown",
   "id": "edfb7615-9f04-4048-9ce8-2d6d2b404fac",
   "metadata": {},
   "source": [
    "## Pohyb v 1D\n",
    "\n",
    "Pro další popis budeme vycházet z definice pohybu. Samotnou změnu fyzikální veličiny označujeme v mechanice symbolem $\\Delta$. Například pro změnu času označíme jako $\\Delta t$. Znamená to:\n",
    "\n",
    "$$\\Delta t = t_2 - t_1$$ \n",
    "\n",
    "Začneme-li pohyb v čase 12 hodin 20 minut a ukočníme ho v čase 12 hodin 21 minut, trval daný pohyb 1 minutu. S popisem změny polohy je to o něco komplikovanější vzhledem k rozdělení pohybu. Kůli jednoduchosti budeme uvažovat nejjednodušší způsob měření pohybu u pohybu posuvného. Pohyb po kružnici si probereme samostatně v části periodického pohybu.\n",
    "\n",
    "### Translační pohyb\n",
    "\n",
    "Za nejjednodušší posuvný pohyb budeme považovat pohyb běžce po přímé dráze. Jakým způsobem by jsme mohli určit jeho polohu? Příkladem může být původní měření běhu.\n",
    "\n",
    "![Běh pohyb](https://www.fasttalklabs.com/wp-content/uploads/2023/08/analyze-run-form.jpg)\n",
    "\n",
    "### Souřadnicová osa\n",
    "* **Počátek souřadnic:** Zvolený bod na přímce, od kterého měříme vzdálenosti.\n",
    "* **Kladný směr:** Směr, ve kterém rostou kladné hodnoty souřadnice.\n",
    "* **Záporný směr:** Směr opačný ke kladnému směru.\n",
    "\n",
    "![souřadnicová osa](https://df0b18phdhzpx.cloudfront.net/ckeditor_assets/pictures/1439925/original_13.png)\n",
    "\n",
    "### Poloha bodu\n",
    "* **Souřadnice:** Číselná hodnota udávající vzdálenost bodu od počátku souřadnic ve zvoleném směru. V případě pohybu po přímce nám stačí jedna hodnota $x$.\n",
    "\n",
    "### Změna polohy\n",
    "* **Posunutí:** Změna polohy bodu v čase. Je to vektorová veličina, která má velikost (dráhu) a směr. Označujeme jí $\\vec{\\mathbf{d}}$.\n",
    "\n",
    "### Zápis pohybu\n",
    "\n",
    "Možný zápis pohybu je tabulkou, kde vyjádříme jednotlivé body\n",
    "\n",
    "|Čas $t$ \\[s\\] | Poloha $x$ [m]|\n",
    "--- | --- |\n",
    "| 0 | 1 |\n",
    "| 1 | 3 |\n",
    "| 2 | 5 |\n",
    "| 3 | 5 |\n",
    "| 4 | 2 |\n",
    "\n",
    "Zobrazení pomocí tabulky může být nepřehledné když máme velké množství bodů. Proto je výhodnější po popis polohy použít graf. Při spojení jednotlivých naměřených bodů vždy pohyb aproximujeme."
   ]
  },
  {
   "cell_type": "code",
   "execution_count": 9,
   "id": "7ffc12a3-acf5-40a6-8bc0-3a3ea477ecba",
   "metadata": {},
   "outputs": [
    {
     "data": {
      "image/png": "[encoded data removed]",
      "text/plain": [
       "<Figure size 432x288 with 1 Axes>"
      ]
     },
     "metadata": {
      "needs_background": "light"
     },
     "output_type": "display_data"
    }
   ],
   "source": [
    "t = [0,1,2,3,4]\n",
    "x = [1,3,5,5,2]\n",
    "\n",
    "plt.plot(t,x, \"o\", label=\"Naměřené hodnoty\")\n",
    "plt.plot(t,x, \"--\", label=\"Aproximace pohybu\")\n",
    "plt.xlabel(\"Čas [s]\")\n",
    "plt.ylabel(\"Poloha [m]\")\n",
    "plt.legend()\n",
    "plt.show()"
   ]
  },
  {
   "cell_type": "markdown",
   "id": "43340317-9b0b-45e8-914c-bdcd2f71e7d3",
   "metadata": {},
   "source": [
    "```{warning}\n",
    "V případě malého počtu naměřených bodů nebo jejich malé frekvence měření vůči pohybu je aproximace pohybu nepřesná. \n",
    "```"
   ]
  },
  {
   "cell_type": "markdown",
   "id": "ac445653-20ac-4663-bff1-6146eaef5d90",
   "metadata": {},
   "source": [
    "## Kinematika\n",
    "\n",
    "**Kinematika** je odvětví klasické mechaniky, které popisuje pohyb objektů bez uvážení příčin pohybu ([Wikipedia](http://en.wikipedia.org/wiki/Kinematics)).\n",
    "\n",
    "Kinematika částice je popis pohybu, když je objekt považován za částici.\n",
    "\n",
    "Částice jako fyzický objekt v přírodě neexistuje; je to zjednodušení pro pochopení pohybu tělesa nebo je to pojmová definice, jako je těžiště soustavy objektů.\n",
    "\n",
    "**Dráha, rychlost a zrychlení** jsou tři základní veličiny popisující pohyb tělesa. Mezi nimi existují úzké vztahy, které nám umožňují popsat a analyzovat pohyb tělesa.\n",
    "\n",
    "### Dráha\n",
    "* **Dráha** je délka trajektorie, kterou urazí těleso při svém pohybu. Je to skalární veličina a značí se obvykle písmenem *s*.\n",
    "\n",
    "### Rychlost\n",
    "\n",
    "Průměrná rychlost mezi dvěma okamžiky je:\n",
    "\n",
    "$$\\overrightarrow{\\mathbf{v_x}}(t) = \\frac{\\overrightarrow{\\mathbf{x}}(t_2)-\\overrightarrow{\\mathbf{x}}(t_1)}{t_2-t_1} = \\frac{\\Delta \\overrightarrow{\\mathbf{x}}}{\\Delta t}$$\n",
    "\n",
    "Okamžitá rychlost částice se získá, když se $\\Delta t$ přiblíží k nule. \n",
    "\n",
    "$$\\overrightarrow{\\mathbf{v_x}}(t) = \\lim_{\\Delta t \\to 0} \\frac{\\Delta \\overrightarrow{\\mathbf{x}}}{\\Delta t} = \\lim_{\\Delta t \\to 0} \\frac{\\overrightarrow{\\mathbf{x}}(t+\\Delta t)-\\overrightarrow{\\mathbf{r}}(t)}{\\Delta t} = \\frac{\\mathrm{d}\\overrightarrow{\\mathbf{x}}}{\\mathrm{d}t} = \\dot{\\vec{\\mathbf{x}}}$$\n",
    "\n",
    "```{note}\n",
    "V mechanice se často setkáváme s časovými derivacemi, tedy derivacemi funkcí, které závisí na čase. Pro zjednodušení zápisu a usnadnění práce s těmito derivacemi se používá speciální značení pomocí teček nad symbolem veličiny. Toto značení zavedl **Isaac Newton**.\n",
    "* **První časová derivace:** Značí se jednou tečkou nad symbolem veličiny. Například, pokud $x$ značí polohu, pak $\\dot{x}$ (x s tečkou) značí její první časovou derivaci, tedy rychlost:\n",
    "   $$\\dot{x} = \\frac{dx}{dt}$$\n",
    "* **Druhá časová derivace:** Značí se dvěma tečkami nad symbolem veličiny. Například, $\\ddot{x}$ (x se dvěma tečkami) značí druhou časovou derivaci polohy, tedy zrychlení:\n",
    "$$\\ddot{x} = \\frac{d^2x}{dt^2} = \\frac{d}{dt}\\left(\\frac{dx}{dt}\\right) = \\frac{d\\dot{x}}{dt}$$\n",
    "* **Třetí a vyšší časové derivace:** Značí se třemi a více tečkami nad symbolem veličiny. Vyšší časové derivace se používají méně často, ale mohou se objevit například při popisu dynamiky pohybu.\n",
    "```\n",
    "#### Rychlost je relativní\n",
    "\n",
    "Rychlost je vždy relativní. To znamená, že se udává vzhledem k nějakému referenčnímu bodu nebo soustavě. Neexistuje absolutní rychlost. Pojďme si to ilustrovat na několika příkladech s ohledem na Zemi, Slunce a centrum naší Galaxie, Mléčné dráhy.\n",
    "\n",
    "**1. Vzhledem k Zemi:**\n",
    "\n",
    "* **Chůze:** Člověk jde rychlostí například 5 km/h. Tato rychlost je *vzhledem k povrchu Země*.\n",
    "* **Auto:** Auto jede rychlostí 100 km/h. Opět, tato rychlost je *vzhledem k Zemi*.\n",
    "* **Letadlo:** Letadlo letí rychlostí 900 km/h. Tato rychlost je *vzhledem k Zemi*.\n",
    "\n",
    "V těchto příkladech je Země naše nejpřirozenější referenční soustava. Všichni se pohybujeme po Zemi a proto nám tyto rychlosti dávají největší smysl.\n",
    "\n",
    "**2. Vzhledem ke Slunci:**\n",
    "\n",
    "Země obíhá kolem Slunce. To znamená, že i když stojíme na Zemi, pohybujeme se obrovskou rychlostí *vzhledem ke Slunci*.\n",
    "\n",
    "* **Rychlost Země kolem Slunce:** Přibližně 30 km/s (108 000 km/h). To je mnohem rychleji, než cokoliv, co běžně zažíváme na Zemi. I když sedíte v klidu doma, pohybujete se touto obrovskou rychlostí *vzhledem ke Slunci*.\n",
    "* **Rychlost sondy Voyager 1 (vzhledem ke Slunci):** Voyager 1, jedna z nejvzdálenějších sond od Země, se pohybuje rychlostí přibližně 17 km/s (61 200 km/h) *vzhledem ke Slunci*.\n",
    "\n",
    "Zde vidíme, že i relativně \"pomalu\" se pohybující tělesa (jako Země) mají obrovské rychlosti, pokud změníme referenční soustavu na Slunce.\n",
    "\n",
    "**3. Vzhledem k centru Galaxie:**\n",
    "\n",
    "Slunce a celá Sluneční soustava obíhají kolem centra Mléčné dráhy. I zde se pohybujeme obrovskou rychlostí.\n",
    "\n",
    "* **Rychlost Slunce kolem centra Galaxie:** Přibližně 220 km/s (828 000 km/h). To je ještě mnohem rychlejší než pohyb Země kolem Slunce! I Slunce, obrovská a zdánlivě nehybná hvězda, se řítí vesmírem obrovskou rychlostí *vzhledem k centru Galaxie*.\n",
    "\n",
    "Zde je Země pouze malou planetou obíhající kolem Slunce, které je jednou z miliard hvězd obíhajících centrum Galaxie. Proto se naše rychlost *vzhledem k centru Galaxie* skládá z rychlosti Země kolem Slunce a rychlosti Slunce kolem centra Galaxie.\n",
    "\n",
    "**Shrnutí:**\n",
    "\n",
    "| Vzhledem k | Příklad | Rychlost (přibližně) |\n",
    "|---|---|---|\n",
    "| Zemi | Chůze | 5 km/h |\n",
    "| Rovník | Osa otáčení Země | 1674 km/h |\n",
    "| Slunci | Země | 108 000 km/h) |\n",
    "| Centru Galaxie | Slunce | 828 000 km/h) |\n",
    "|Mléčna dráha| ostatní galaxie | 2.2 miliona km/h|\n",
    "*Zdroj: [Britannica.com](https://www.britannica.com/story/what-is-earths-velocity)* \n",
    "\n",
    "<iframe width=\"560\" height=\"315\" src=\"https://www.youtube.com/embed/buqtdpuZxvk?si=Dip7gZuaPjByjTCk\"></iframe>\n",
    "\n",
    "### Zrychlení\n",
    "\n",
    "Zrychlení je změna rychlosti bodu, která může být dána i rychlostí změny polohy druhého řádu. Střední zrychlení mezi dvěma okamžiky je:\n",
    "\n",
    "$$\\overrightarrow{\\mathbf{a}}(t) = \\frac{\\overrightarrow{\\mathbf{v}}(t_2)-\\overrightarrow{\\mathbf{v}}(t_1)}{t_2-t_1} = \\frac{\\Delta \\overrightarrow{\\mathbf{v}}}{\\Delta t}$$\n",
    "\n",
    "Podobně okamžité zrychlení je derivace prvního řádu rychlosti nebo derivace druhého řádu polohového vektoru:\n",
    "\n",
    "$$\\overrightarrow{\\mathbf{a}}(t) = \\frac{\\mathrm{d}\\overrightarrow{\\mathbf{v}}(t)}{\\mathrm{d}t} = \\frac{\\mathrm{d}^2\\overrightarrow{\\mathbf{x}}(t)}{\\mathrm{d}t^2} = \\dot{\\vec{\\mathbf{v}}} =\\ddot{\\vec{\\mathbf{x}}}$$\n",
    "\n",
    "\n",
    "### Ryv (Jerk)\n",
    "\n",
    "**Ryv** (anglicky jerk) je fyzikální veličina, která popisuje **změnu zrychlení v čase**. Udává, jak rychle se zrychlení tělesa mění. Je to vektorová veličina, což znamená, že má velikost a směr.\n",
    "\n",
    "Ryv se značí písmenem $j$ a jeho definiční vztah je dán derivací zrychlení ($a$) podle času ($t$):\n",
    "\n",
    "$$\n",
    "\\vec{\\mathbf{j}} = \\frac{\\mathrm{d}\\vec{\\mathbf{a}}}{\\mathrm{d}t} = \\frac{\\mathrm{d}^3\\mathbf{x}}{\\mathrm{d}t^3}\n",
    "$$"
   ]
  },
  {
   "cell_type": "markdown",
   "id": "3260b8ed-7bb3-4887-888e-53f20910c53d",
   "metadata": {},
   "source": [
    "### Příklady pohybu v 1D\n",
    "\n",
    "#### Bod při konstantní rychlosti\n",
    "\n",
    "$$\n",
    "\\begin{array}{l l}\n",
    "\\overrightarrow{\\mathbf{a}}(t) = 0 \\\\\n",
    "\\overrightarrow{\\mathbf{v}}(t) = \\overrightarrow{\\mathbf{v}}_0 \\\\\n",
    "\\overrightarrow{\\mathbf{r}}(t) = \\overrightarrow{\\mathbf{r}}_0 + \\overrightarrow{\\mathbf{v}}_0t\n",
    "\\end{array}\n",
    "$$\n",
    "\n",
    "#### Bod při konstantním zrychlení\n",
    "\n",
    "$$\n",
    "\\begin{array}{l l}\n",
    "\\overrightarrow{\\mathbf{a}}(t) = \\overrightarrow{\\mathbf{a}}_0 \\\\\n",
    "\\overrightarrow{\\mathbf{v}}(t) = \\overrightarrow{\\mathbf{v}}_0 + \\overrightarrow{\\mathbf{a}}_0t \\\\\n",
    "\\overrightarrow{\\mathbf{r}}(t) = \\overrightarrow{\\mathbf{r}}_0 + \\overrightarrow{\\mathbf{v}}_0t +\n",
    "\\frac{1}{2}\\overrightarrow{\\mathbf{a}}_0 t^2\n",
    "\\end{array}\n",
    "$$"
   ]
  },
  {
   "cell_type": "code",
   "execution_count": 1,
   "id": "a510dbbc-a4d3-464c-b8c2-c47bb027023e",
   "metadata": {},
   "outputs": [
    {
     "data": {
      "image/png": "[encoded data removed]",
      "text/plain": [
       "<Figure size 1008x504 with 9 Axes>"
      ]
     },
     "metadata": {
      "needs_background": "light"
     },
     "output_type": "display_data"
    }
   ],
   "source": [
    "import numpy as np\n",
    "import matplotlib.pyplot as plt\n",
    "%matplotlib inline\n",
    "\n",
    "t = np.linspace(0, 2, 101)\n",
    "r0 = 1\n",
    "v0 = 2\n",
    "a0 = 4\n",
    "\n",
    "plt.rc('axes',  labelsize=14,  titlesize=14) \n",
    "plt.rc('xtick', labelsize=10)\n",
    "plt.rc('ytick', labelsize=10) \n",
    "f, axarr = plt.subplots(3, 3, sharex = True, sharey = True, figsize=(14,7))\n",
    "plt.suptitle('Pohyb po přímce', fontsize=20);\n",
    "\n",
    "tones = np.ones(np.size(t))\n",
    "\n",
    "axarr[0, 0].set_title('v klidu', fontsize=14);\n",
    "axarr[0, 0].plot(t, r0*tones, 'g', linewidth=4, label='$r(t)=1$')\n",
    "axarr[1, 0].plot(t,  0*tones, 'b', linewidth=4, label='$v(t)=0$')\n",
    "axarr[2, 0].plot(t,  0*tones, 'r', linewidth=4, label='$a(t)=0$')\n",
    "axarr[0, 0].set_ylabel('r(t) [m]')\n",
    "axarr[1, 0].set_ylabel('v(t) [m/s]')\n",
    "axarr[2, 0].set_ylabel('a(t) [m/s$^2$]')\n",
    "\n",
    "axarr[0, 1].set_title('při konstatní rychlosti');\n",
    "axarr[0, 1].plot(t, r0*tones+v0*t, 'g', linewidth=4, label='$r(t)=1+2t$')\n",
    "axarr[1, 1].plot(t, v0*tones,      'b', linewidth=4, label='$v(t)=2$')\n",
    "axarr[2, 1].plot(t,  0*tones,      'r', linewidth=4, label='$a(t)=0$')\n",
    "\n",
    "axarr[0, 2].set_title('při konstantním zrychlení');\n",
    "axarr[0, 2].plot(t, r0*tones+v0*t+1/2.*a0*t**2,'g', linewidth=4,\n",
    "                 label='$r(t)=1+2t+\\\\frac{1}{2}4t^2$')\n",
    "axarr[1, 2].plot(t, v0*tones+a0*t,             'b', linewidth=4,\n",
    "                 label='$v(t)=2+4t$')\n",
    "axarr[2, 2].plot(t, a0*tones,                  'r', linewidth=4,\n",
    "                 label='$a(t)=4$')\n",
    "\n",
    "for i in range(3): \n",
    "    axarr[2, i].set_xlabel('Čas [s]');\n",
    "    for j in range(3):\n",
    "        axarr[i,j].set_ylim((-.2, 10))\n",
    "        axarr[i,j].legend(loc = 'upper left', frameon=True, framealpha = 0.9, fontsize=14)\n",
    "        \n",
    "plt.subplots_adjust(hspace=0.09, wspace=0.07)"
   ]
  },
  {
   "cell_type": "markdown",
   "id": "351d7181-39ff-493a-bea7-07247912bd66",
   "metadata": {},
   "source": [
    "### Kinematika závodu na 100 m\n",
    "\n",
    "Příkladem, kde lze analýzu některých aspektů pohybu lidského těla zredukovat na analýzu bodu, je studium biomechaniky běhu na 100 metrů.\n",
    "\n",
    "Technickou zprávu s kinematickými daty pro světový rekord na 100 m od Usaina Bolta si můžete stáhnout z [website for Research Projects](http://www.iaaf.org/development/research) od Mezinárodní asociace atletických federací.\n",
    "[Tady je přímý odkaz](http://www.iaaf.org/download/download?filename=76ade5f9-75a0-4fda-b9bf-1b30be6f60d2.pdf&urlSlug=1-biomechanics-report-wc-berlin-2009-sprint). Konkrétně následující tabulka ukazuje údaje pro tři medailisty v tomto závodě:\n",
    "\n",
    "<br>\n",
    "<figure><img src=\"https://github.com/BMClab/BMC/blob/master/images/Berlin2009_100m.png?raw=1\" width=700 alt=\"částečné časy závodu na 100 metrů v Berlíně 2009\"/><figcaption><center><i>Obrázek. Údaje od tří medailistů z běhu na 100 m v Berlíně, 2009 (<a href=\"http://www.iaaf.org/download/download?filename=76ade5f9-75a0-4fda-b9bf-1b30be6f60d2.pdf&urlSlug=1-biomechanics-IAberlin-report-s)\">0print report</a>).</i></center></figcaption></figure>\n",
    "\n",
    "Sloupec **RT** v tabulce výše se týká reakční doby každého sportovce. IAAF má velmi přísné pravidlo o reakční době: každý sportovec s reakční dobou kratší než 100 ms je ze soutěže diskvalifikován! Diskuzi o tomto pravidle naleznete na webu [Reaction Times and Sprint False Starts](http://condellpark.com/kd/reactiontime.htm).\n",
    "\n",
    "Svou vlastní reakční dobu si můžete změřit jednoduchým způsobem na této webové stránce: [http://www.humanbenchmark.com/tests/reactiontime](http://www.humanbenchmark.com/tests/reactiontime).\n",
    "\n",
    "Článek [A Kinematics Analysis Of Three Best 100 M Performances Ever](http://www.ncbi.nlm.nih.gov/pmc/articles/PMC3661886/) od Krzysztofa a Mera představuje podrobnou kinematickou analýzu závodů na 100 m."
   ]
  },
  {
   "cell_type": "markdown",
   "id": "7a2e6b45-eef8-4638-a120-3a9cd7611082",
   "metadata": {},
   "source": [
    "## Vztah mezi dráhou, rychlostí a zrychlením\n",
    "\n",
    "**Graf dráhy**: Ukazuje, jak se mění poloha tělesa v čase.\n",
    "\n",
    "**Graf rychlosti**: Ukazuje, jak se mění rychlost tělesa v čase.\n",
    "\n",
    "**Graf zrychlení**: Ukazuje, jak se mění zrychlení tělesa v čase.\n",
    "\n",
    "**Při rovnoměrném přímočarém pohybu**: Rychlost je konstantní a dráha je přímo úměrná času, zrychlení je nulové.\n",
    "\n",
    "**Při rovnoměrně zrychleném přímočarém pohybu:** Rychlost se lineárně zvětšuje s časem a dráha se mění kvadraticky s časem.\n",
    "\n",
    "```{note}\n",
    "**Obecně:** \n",
    "* Sklon grafu dráhy určuje velikost rychlosti\n",
    "* Sklon grafu rychlosti určuje velikost zrychlení\n",
    "* Plocha pod grafem zrychlení je rovná změně rychlosti\n",
    "* Plocha po grafem dráhy je rovna změně dráhy\n",
    "```\n",
    "\n",
    "![Vztah poloha, dráha, rychlost](http://hyperphysics.phy-astr.gsu.edu/hbase/Mechanics/imgmech/motslope.png)\n",
    "\n",
    "```{tip}\n",
    "[Khan academy - vysvětlení vztahu mezi sklonem grafu polohu a rychlostí](https://www.khanacademy.org/science/mechanics-essentials/xafb2c8d81b6e70e3:how-to-analyze-car-crashes-using-skid-mark-analysis/xafb2c8d81b6e70e3:how-fast-are-you-going-right-now/a/position-vs-time-graphs)\n",
    "```"
   ]
  },
  {
   "cell_type": "code",
   "execution_count": 3,
   "id": "ac81f9c4-dfdc-4eaa-920c-bc07833a997c",
   "metadata": {},
   "outputs": [
    {
     "data": {
      "text/html": [
       "\n",
       "        <iframe\n",
       "            width=\"800\"\n",
       "            height=\"600\"\n",
       "            src=\"https://www.geogebra.org/classic/pdNj3DgD?style=border%3A+1px+solid+black\"\n",
       "            frameborder=\"0\"\n",
       "            allowfullscreen\n",
       "            \n",
       "        ></iframe>\n",
       "        "
      ],
      "text/plain": [
       "<IPython.lib.display.IFrame at 0x7a2590212620>"
      ]
     },
     "execution_count": 3,
     "metadata": {},
     "output_type": "execute_result"
    }
   ],
   "source": [
    "from IPython.display import IFrame\n",
    "IFrame('https://www.geogebra.org/classic/pdNj3DgD', width=800, height=600, style=\"border: 1px solid black\")"
   ]
  }
 ],
 "metadata": {
  "kernelspec": {
   "display_name": "Python 3 (ipykernel)",
   "language": "python",
   "name": "python3"
  },
  "language_info": {
   "codemirror_mode": {
    "name": "ipython",
    "version": 3
   },
   "file_extension": ".py",
   "mimetype": "text/x-python",
   "name": "python",
   "nbconvert_exporter": "python",
   "pygments_lexer": "ipython3",
   "version": "3.10.12"
  }
 },
 "nbformat": 4,
 "nbformat_minor": 5
}
