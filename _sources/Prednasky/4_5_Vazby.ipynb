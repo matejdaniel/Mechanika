{
 "cells": [
  {
   "cell_type": "markdown",
   "id": "370355ab-fe61-4e7a-bb61-03474cfd084b",
   "metadata": {},
   "source": [
    "# Vazby v rovině\n",
    "\n",
    "Vazby slouží k zabránění pohybu, tj. odebírají (ruší) *r* stupňů volnosti.\n",
    "\n",
    "* Kolik stupňů vazba ruší, tolik složek reakcí vzniká.\n",
    "* Při výpočtu uvolníme vazby a nahradíme je silami (momenty), neznámé jsou velikosti reakcí, kladný směr reakcí volíme často ve směru os.\n",
    "\n",
    "\n",
    "1.  **Posuvný kloub v rovině**\n",
    "    * $R_z$ odebírá jeden stupeň volnosti ($r = 1$)\n",
    "    * Vzniká jedna reakce ve směru osy Z.\n",
    "\n",
    "   \n",
    "\n",
    "2.  **Pevný kloub v rovině**\n",
    "    * Odebírá dva stupně volnosti ($r = 2$), umožňuje rotaci\n",
    "    * $R_z$, $R_x$\n",
    "\n",
    "\n",
    "3.  **Kyvný prut v rovině nebo prostoru**\n",
    "    * Odebírá jeden stupeň volnosti ($r = 1$)\n",
    "    * Jiné názvy: stojka, vzpěra (tlak), táhlo (tah), tyč\n",
    "    * Vznikne kloubovým uložením desky, tělesa na obou stranách\n",
    "    * Vedení objektu po kružnici (kulové ploše)\n",
    "    * Pokud nepůsobí žádné příčné zatížení, jsou kolmé reakce nulové (momentová podmínka rovnováhy ke kloubu)\n",
    "\n",
    "4.  **Vetknutí**\n",
    "    * Odebírá všechny stupně volnosti  ($r = 3$) - $R_z$, $R_x, M$\n",
    "    * Vyvolává reakční síly ve dvou kolmých směrech a reakční moment.\n",
    "\n",
    "# Princip uvolnění\n",
    "\n",
    "> Princip uvolnění spočívá v nahrazení vazeb působících na těleso silami a momenty, které tyto vazby vyvolávají.\n",
    "\n",
    "1.  **Identifikace vazeb:** Určete všechny vazby působící na těleso. Vazby omezují pohyb tělesa a vyvolávají reakční síly a momenty.\n",
    "2.  **Uvolnění tělesa:** Odstraňte všechny vazby a nahraďte je reakčními silami a momenty. Směr a velikost těchto reakcí jsou obvykle neznámé.\n",
    "3.  **Volba souřadnicového systému:** Zvolte vhodný souřadnicový systém, ve kterém budete řešit rovnice rovnováhy.\n",
    "4.  **Sestavení rovnic rovnováhy:** Sestavte statické rovnice rovnováhy pro uvolněné těleso. Tyto rovnice vyjadřují podmínky, které musí být splněny, aby bylo těleso v rovnováze.\n",
    "5.  **Řešení rovnic:** Vyřešte rovnice rovnováhy a určete neznámé reakční síly a momenty."
   ]
  }
 ],
 "metadata": {
  "kernelspec": {
   "display_name": "Python 3 (ipykernel)",
   "language": "python",
   "name": "python3"
  },
  "language_info": {
   "codemirror_mode": {
    "name": "ipython",
    "version": 3
   },
   "file_extension": ".py",
   "mimetype": "text/x-python",
   "name": "python",
   "nbconvert_exporter": "python",
   "pygments_lexer": "ipython3",
   "version": "3.10.12"
  }
 },
 "nbformat": 4,
 "nbformat_minor": 5
}
