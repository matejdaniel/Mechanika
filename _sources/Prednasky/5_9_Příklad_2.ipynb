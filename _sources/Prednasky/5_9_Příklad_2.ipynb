{
 "cells": [
  {
   "cell_type": "markdown",
   "id": "1f653e2b-fba7-45fc-928a-6f89285a2d56",
   "metadata": {},
   "source": [
    "# Příklad - dynamika jojo\n",
    "\n",
    "Podle https://www.lehman.edu/faculty/anchordoqui/chapter21.pdf\n",
    "\n",
    "Jojo o hmotnosti $m$ má osu o poloměru $b$ a cívku o poloměru $R$. Jeho moment setrvačnosti kolem středu lze považovat za $I_{\\text{cm}} = \\frac{1}{2} m R^2$, a tloušťku provázku můžeme zanedbat. Yo-Yo je puštěno z klidu. Předpokládejte, že těžiště Yo-Yo klesá vertikálně a provázek je při odvíjení vertikální. Určete  sílu v provázku, když Yo-Yo klesá?\n",
    "\n",
    "Jak Yo-Yo klesá, otáčí se po směru hodinových ručiček. Krouticí moment kolem těžiště Yo-Yo je způsoben sílou v provázku a zvyšuje velikost úhlové rychlosti. Provázek určuje směr $y$, osa $x$ je vodorovně, a směr krouticího momentu je v záporném směru $z$-osy. Použijme pravidlo pravé ruky nebo vektorovou definici krouticího momentu:\n",
    "\n",
    "$$\\vec{M}_{\\text{cm}} = \\vec{r}_{\\text{cm},T} \\times \\vec{T}$$\n",
    "\n",
    "Kde:\n",
    "\n",
    "$$\\vec{r}_{\\text{cm},T} = -b \\vec{i}, \\quad \\vec{T} = T \\vec{j}$$\n",
    "\n",
    "\n",
    "Tedy krouticí moment je:\n",
    "\n",
    "\n",
    "$$\\vec{M}_{\\text{cm}} = (-b \\hat{i}) \\times (T \\hat{j}) = -bT \\vec{k}$$\n",
    "\n",
    "\n",
    "Nyní použijme Newtonův druhý zákon ve směru $-\\vec{j} $:\n",
    "\n",
    "$$T - mg = m a_y$$\n",
    "\n",
    "kde $a_y$ je vertikální zrychlení Yo-Yo.\n",
    "\n",
    "Použijme rotační rovnici pohybu pro Yo-Yo:\n",
    "\n",
    "\n",
    "$$-bT = I_{\\text{cm}} \\alpha_z$$\n",
    "\n",
    "\n",
    "Úhlová zrychlení $\\alpha_z$ a lineární zrychlení $a_y$ jsou propojena podmínkou:\n",
    "\n",
    "$$\n",
    "a_y = b \\alpha_z\n",
    "$$\n",
    "\n",
    "Doplníme do vztahu:\n",
    "\n",
    "$$\n",
    "T - mg = mb \\alpha_z\n",
    "$$\n",
    "\n",
    "Vyřešme rotační rovnici pro $\\alpha_z$ a získáme:\n",
    "\n",
    "$$\n",
    "mg - T = \\frac{mb^2 T}{I_{\\text{cm}}}\n",
    "$$\n",
    "\n",
    "Po zjednodušení:\n",
    "\n",
    "$$\n",
    "T = \\frac{mg}{1 + \\frac{mb^2}{I_{\\text{cm}}}}\n",
    "= \\frac{mg}{1 + \\frac{2b^2}{R^2}}\n",
    "$$\n"
   ]
  }
 ],
 "metadata": {
  "kernelspec": {
   "display_name": "Python 3 (ipykernel)",
   "language": "python",
   "name": "python3"
  },
  "language_info": {
   "codemirror_mode": {
    "name": "ipython",
    "version": 3
   },
   "file_extension": ".py",
   "mimetype": "text/x-python",
   "name": "python",
   "nbconvert_exporter": "python",
   "pygments_lexer": "ipython3",
   "version": "3.10.12"
  }
 },
 "nbformat": 4,
 "nbformat_minor": 5
}
