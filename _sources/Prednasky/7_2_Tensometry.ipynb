{
 "cells": [
  {
   "cell_type": "markdown",
   "id": "b55eeaf4-6afe-4bc4-bfa0-9bf64fc597e8",
   "metadata": {},
   "source": [
    "# Měření napjatosti\n",
    "\n"
   ]
  },
  {
   "attachments": {},
   "cell_type": "markdown",
   "id": "7fed278d-7c67-48eb-b0ef-49422feb26e5",
   "metadata": {},
   "source": [
    "## Princip tenzometru\n",
    "\n",
    "> Tenzometr (deformační senzor) je zařízení používané k **měření deformace (protažení nebo stlačení) materiálu**. Pracuje na principu změny **elektrického odporu**, **kapacity**, nebo **optických vlastností**, které souvisejí se změnou délky materiálu.\n",
    "\n",
    "Pro nejčastěji používané **odporové tenzometry** platí vztah:\n",
    "\n",
    "$$\n",
    "\\Delta R = R k  \\varepsilon\n",
    "$$\n",
    "\n",
    "kde:\n",
    "- $\\Delta R$ je změna odporu,\n",
    "- $R$ je původní odpor tenzometru,\n",
    "- $k$ je tenzometrický faktor (charakterizuje citlivost měniče),\n",
    "- $\\varepsilon$ je relativní deformace ($\\varepsilon = \\frac{\\Delta l}{l}$).\n",
    "\n",
    "Tenzometry se lepí na povrch materiálu a při zatížení mění svůj odpor úměrně deformaci. Tato změna se měří Wheatstoneovým můstkem, který převádí odporovou změnu na napěťový signál.\n",
    "\n",
    ":::{image} https://blog.endaq.com/hs-fs/hubfs/Blog-Images/Strain%20Gauges/compression-and-tension-experienced-on-strain-gauge.png?width=1091&name=compression-and-tension-experienced-on-strain-gauge.png\n",
    ":width:500px\n",
    ":::\n",
    "\n",
    "## Druhy tenzometrů\n",
    "\n",
    "tenzometry se dělí podle principu měření a materiálu:\n",
    "\n",
    "### Elektrické tenzometry\n",
    "1. **Odporové tenzometry** – nejběžnější, měří změnu elektrického odporu při deformaci.\n",
    "   - **Kovové fóliové tenzometry** – přesné, odolné, používají se v průmyslu i biomechanice.\n",
    "   - **Polovodičové tenzometry** – vyšší citlivost, ale nelineární odezva.\n",
    "  \n",
    "2. **Indukční tenzometry** – využívají změnu indukčnosti cívky při deformaci.\n",
    "\n",
    "3. **Kapacitní tenzometry** – měří změnu kapacity mezi dvěma elektrodami.\n",
    "\n",
    "\n",
    "### Optické tenzometry\n",
    "1. **Fiber Bragg Grating (FBG) tenzometry** – měří změnu vlnové délky světla v optických vláknech.\n",
    "2. **Holografická interferometrie** – používá laserové interferenční vzory pro měření deformací.\n",
    "\n",
    "### Mechanické tenzometry\n",
    "1. **Pákové tenzometry** – využívají mechanický převod deformace na viditelný posun.\n",
    "2. **Hydraulické tenzometry** – měří tlak kapaliny změnou objemu při deformaci.\n",
    "\n",
    "\n",
    "## Tenzometrická růžice\n",
    "\n",
    ":::{image} https://theinstrumentguru.com/wp-content/uploads/2022/04/Strain-Guage-Rosette-configuration-2048x626.jpg\n",
    ":width:300px\n",
    ":::\n",
    "\n",
    "tenzometrická růžice je uspořádání dvou nebo více tenzometrů, které jsou umístěny blízko sebe a měří deformace v různých směrech dané součásti. **Jednotlivý tenzometr dokáže účinně měřit pouze deformaci v jednom směru**, proto použití více tenzometrů umožňuje získání více měření a poskytuje přesnější hodnocení napjatosti povrchu. \n",
    "\n",
    "Tenzometrické růžice se používají zejména tehdy, **když není znám směr deformace nebo pokud není známa hlavní osa deformace v komponentě**.\n",
    "Lze ukázat, že pro obecný případ rovinného biaxiálního deformačního stavu s neznámými hlavními směry jsou k určení dominantních deformací a napětí zapotřebí tři nezávislá měření napětí v různých směrech. \n",
    "\n",
    "I v případě, že jsou hlavní směry deformací předem známy, jsou **pro určení hlavních deformací zapotřebí alespoň dvě nezávislá měření**.\n"
   ]
  }
 ],
 "metadata": {
  "kernelspec": {
   "display_name": "Python 3 (ipykernel)",
   "language": "python",
   "name": "python3"
  },
  "language_info": {
   "codemirror_mode": {
    "name": "ipython",
    "version": 3
   },
   "file_extension": ".py",
   "mimetype": "text/x-python",
   "name": "python",
   "nbconvert_exporter": "python",
   "pygments_lexer": "ipython3",
   "version": "3.10.12"
  }
 },
 "nbformat": 4,
 "nbformat_minor": 5
}
