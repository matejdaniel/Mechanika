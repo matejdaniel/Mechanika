{
 "cells": [
  {
   "cell_type": "markdown",
   "id": "3692a4c8-39dc-4912-a745-974fd1c07e74",
   "metadata": {},
   "source": [
    "## Dimenzování nosníků při kombinaci ohybu a krutu\n",
    "\n",
    "Nosníky v praxi často nejsou vystaveny pouze čistému ohybu nebo krutu, ale kombinaci těchto zatížení. Typickým případem jsou například hřídele, konzoly zatížené mimo hlavní roviny nebo nosníky s excentrickým zatížením. Kombinace ohybového momentu $M$ a krouticího momentu $T$ vede ke složenému napjatému stavu, který je třeba zohlednit při návrhu.\n",
    "\n",
    "### Krok 1: Výpočet normálového napětí z ohybu\n",
    "\n",
    "Ohybový moment $M$ způsobuje normálové napětí ve vlákně vzdáleném $y$ od neutrální osy podle vztahu:\n",
    "\n",
    "$$\n",
    "\\sigma = \\frac{M y}{I}\n",
    "$$\n",
    "\n",
    "kde:\n",
    "- $\\sigma$ je normálové napětí,\n",
    "- $M$ je ohybový moment,\n",
    "- $y$ je vzdálenost od neutrální osy,\n",
    "- $I$ je moment setrvačnosti průřezu nosníku.\n",
    "\n",
    "### Krok 2: Výpočet smykového napětí z krutu\n",
    "\n",
    "Krouticí moment $T$ způsobuje smykové napětí v příčném průřezu:\n",
    "\n",
    "$$\n",
    "\\tau = \\frac{T \\rho}{J}\n",
    "$$\n",
    "\n",
    "kde:\n",
    "- $\\tau$ je smykové napětí,\n",
    "- $T$ je krouticí moment,\n",
    "- $\\rho$ je vzdálenost od středu průřezu (osy rotace),\n",
    "- $J$ je polární moment setrvačnosti průřezu.\n",
    "\n",
    "### Krok 3: Výpočet redukovaného napětí (von Misesovo napětí)\n",
    "\n",
    "Pro posouzení pevnosti v kombinovaném napjatém stavu (normálové + smykové napětí) použijeme **hypotézu von Mises**. Redukované napětí je dáno vztahem:\n",
    "\n",
    "$$\n",
    "\\sigma_{red} = \\sqrt{\\sigma^2 + 3 \\tau^2}\n",
    "$$\n",
    "\n",
    "Tento vztah kombinuje účinek normálového a smykového napětí a používá se pro materiály podléhající meznímu stavu podle teorie plasticity.\n",
    "\n",
    "### Krok 4: Porovnání s mezním napětím\n",
    "\n",
    "Navržený průřez je **bezpečný**, pokud platí:\n",
    "\n",
    "$$\n",
    "\\sigma_{red} \\leq \\sigma_{d}\n",
    "$$\n",
    "\n",
    "kde:\n",
    "- $\\sigma_{d}$ je dovolené (mezní) napětí materiálu."
   ]
  }
 ],
 "metadata": {
  "kernelspec": {
   "display_name": "Python 3 (ipykernel)",
   "language": "python",
   "name": "python3"
  },
  "language_info": {
   "codemirror_mode": {
    "name": "ipython",
    "version": 3
   },
   "file_extension": ".py",
   "mimetype": "text/x-python",
   "name": "python",
   "nbconvert_exporter": "python",
   "pygments_lexer": "ipython3",
   "version": "3.10.12"
  }
 },
 "nbformat": 4,
 "nbformat_minor": 5
}
